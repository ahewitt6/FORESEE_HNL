{
 "cells": [
  {
   "cell_type": "markdown",
   "metadata": {},
   "source": [
    "# FORESEE Tutorial - Heavy Neutral Leptons (HNLs)"
   ]
  },
  {
   "cell_type": "markdown",
   "metadata": {},
   "source": [
    "### Load Libraries "
   ]
  },
  {
   "cell_type": "code",
   "execution_count": 1,
   "metadata": {},
   "outputs": [],
   "source": [
    "import sys\n",
    "src_path = \"/Users/alechewitt/Desktop/Jonathan_research/Git/FORESEE\"\n",
    "sys.path.append(src_path)\n",
    "\n",
    "import numpy as np\n",
    "from src.foresee import Foresee, Utility, Model\n",
    "\n",
    "from matplotlib import pyplot as plt"
   ]
  },
  {
   "cell_type": "markdown",
   "metadata": {},
   "source": [
    "## 1. Initialization \n"
   ]
  },
  {
   "cell_type": "markdown",
   "metadata": {},
   "source": [
    "All function that we will need are included in the FORESEE package. We start by simply initializing it: "
   ]
  },
  {
   "cell_type": "code",
   "execution_count": 2,
   "metadata": {},
   "outputs": [],
   "source": [
    "foresee = Foresee()"
   ]
  },
  {
   "cell_type": "markdown",
   "metadata": {},
   "source": [
    "HNL's are produced mainly via $\\text{D}^+_s$ meson decay. To start, let us have a look at the $\\text{D}^+_s$ spectrum in terms of the angle with respect to the beam axis $\\theta$ and the momentum $p$. This can be done using the function `get_spectrumplot` which requires the MC particle ID (or simply pid), the MC generator and the energy. The units on the coloraxis are pb/bin. \n",
    "\n",
    "FORESEE provides the 2D spectrum as tables for a variety of particles ($\\text{D}^+$, $\\eta$, ...), generators (SIBYLL, EPOSLHC, QGSJET, PYTHIA) and collision energies (14, 27 and 100 TeV). The datafiles are stored in the directory `files/hadrons`. Let us show the $\\text{D}^+$ spectrum here. "
   ]
  },
  {
   "cell_type": "code",
   "execution_count": 3,
   "metadata": {},
   "outputs": [
    {
     "data": {
      "image/png": "[encoded data removed]",
      "text/plain": [
       "<Figure size 576x396 with 2 Axes>"
      ]
     },
     "metadata": {
      "needs_background": "light"
     },
     "output_type": "display_data"
    }
   ],
   "source": [
    "plot=foresee.get_spectrumplot(pid=\"431\", generator=\"Pythia8\", energy=\"14\")\n",
    "plot.show()"
   ]
  },
  {
   "cell_type": "markdown",
   "metadata": {},
   "source": [
    "## 2. Specifying the Model: Heavy Neutral Leptons"
   ]
  },
  {
   "cell_type": "markdown",
   "metadata": {},
   "source": [
    "The phenomenology of a right handed Heavy Neutral Lepton $\\tilde{N}$ can be described by the following Lagrangian\n",
    "\n",
    "\\begin{equation}\n",
    " \\mathcal{L}_{HNL}=i \\bar{\\tilde{N}} \\gamma^{\\mu} \\partial_{\\mu} \\tilde{N} - F_{\\alpha } \\bar{L}_{\\alpha} \\tilde{N} \\tilde{\\Phi}- \\frac{1}{2} \\bar{\\tilde{N}}^c M_N \\tilde{N} + \\rm{h.c.}\n",
    "\\end{equation}\n",
    "\n",
    "with the HNL masses $M_N$ and the Yukawa couplings to SM leptons $F_{\\alpha}$ as free parameters with $\\alpha=e,\\mu, \\tau$. For the search for HNL's at forward experiments we need to know i) the *production rate*, ii) the *lifetime* and iii) possibly the *decay branching fractions* of HNL's as function of the two sets parameters. All properties are specified in the `Model` class. We initialize it with the name of the model as argument. Optionally, we can also add the `path` to the directory where the model is stored. "
   ]
  },
  {
   "cell_type": "code",
   "execution_count": 4,
   "metadata": {},
   "outputs": [
    {
     "name": "stdout",
     "output_type": "stream",
     "text": [
      "0.02069860411438542\n"
     ]
    }
   ],
   "source": [
    "#for D+ 411\n",
    "energy = \"14\"\n",
    "modelname=\"HNL\"\n",
    "model = Model(modelname, path=\"./\")\n",
    "masse=0.000511 #GeV\n",
    "SecToGev=1./(6.582122*pow(10.,-25.))\n",
    "tauH=1040*10**(-15)*SecToGev #GeV\n",
    "VH=.221 #unitless\n",
    "MH=1.8696 #mass of D+ in GeV\n",
    "fH=.2226 #GeV\n",
    "GF=1.166378*10**(-5) #GeV^(-2)\n",
    "prefactorDp=((tauH*GF**2*fH**2*VH**2)/(8*np.pi))\n",
    "print(prefactorDp)\n",
    "#coupling is Ualpha"
   ]
  },
  {
   "cell_type": "code",
   "execution_count": 5,
   "metadata": {},
   "outputs": [
    {
     "name": "stdout",
     "output_type": "stream",
     "text": [
      "0.3142703280466045\n"
     ]
    }
   ],
   "source": [
    "#for D+s 431\n",
    "energy = \"14\"\n",
    "modelname=\"HNL\"\n",
    "model = Model(modelname, path=\"./\")\n",
    "masse=0.000511 #GeV\n",
    "SecToGev=1./(6.582122*pow(10.,-25.))\n",
    "tauH=500*10**(-15)*SecToGev #GeV\n",
    "VH=0.987 #unitless\n",
    "MH=1.96847 #mass of D+ in GeV\n",
    "fH=.2801 #GeV\n",
    "GF=1.166378*10**(-5) #GeV^(-2)\n",
    "prefactorDps=((tauH*GF**2*fH**2*VH**2)/(8*np.pi))\n",
    "#prefactorDps=1\n",
    "print(prefactorDps)\n",
    "#coupling is Ualpha"
   ]
  },
  {
   "cell_type": "markdown",
   "metadata": {},
   "source": [
    "**Production** Most LLPs are produced in the decay of primary particles. Here we need to specify the total branching fraction into the LLP as function of the `coupling` and the `mass`. We additionally specify the variable `nsample` which specifies how often each parent particle is decayed. \n",
    "\n",
    "For the HNL, we have the branching fraction\n",
    "\n",
    "\\begin{equation}\n",
    "    \\text{Br} \\left(H^+ \\rightarrow \\ell_{\\alpha}^{+} N \\right) = \\tau_H \\frac{G_F^2 f_H^2 M_H M_N^2}{8 \\pi} |V_H|^2 |U_{\\alpha}|^2 \\cdot \\left( 1- \\frac{M_N^2}{M_H^2} + 2 \\frac{M_{\\ell}^2}{M_H^2}+ \\frac{M_{\\ell}^2}{M_N^2} \\left( 1- \\frac{M_{\\ell}^2}{M_H^2} \\right) \\right)\\times \\sqrt{\\left(1+ \\frac{M_N^2}{M_H^2}- \\frac{M_{\\ell}^2}{M_H^2}\\right)^2 - 4 \\frac{M_N^2}{M_H^2}}\n",
    "\\end{equation}\n",
    "\n",
    "There is also the option for 3-body decays $p_0 \\to p_1 p_2 p_3$ with $p_3$ being the LLP. This can be added using the function `add_production_3bodydecay()`. It requires to provide `br` which is the differential branching fraction $d\\text{BR}/(dq \\ d\\cos\\vartheta)$ where $q^2=(p_2+p_3)^2$ and $\\vartheta$ is the angle between $p_3$ in the restframe of $p_2+p_3$ and the direction of $p_2+p_3$ in the restframe of $p_0$. We do not have an example for this in the dark photon case. "
   ]
  },
  {
   "cell_type": "code",
   "execution_count": 6,
   "metadata": {},
   "outputs": [],
   "source": [
    "#for D+\n",
    "model.add_production_2bodydecay(\n",
    "    pid0 = \"411\",\n",
    "    pid1 = \"-11\",\n",
    "    br=str(prefactorDp)+\"*coupling**2*mass**2*self.masses('411')*(1.-(mass/self.masses('411'))**2 + 2.* (0.000511/self.masses('411'))**2 + (0.000511/mass)**2*(1.-(0.000511/self.masses('411'))**2)) * np.sqrt((1.+(mass/self.masses('411'))**2 - (0.000511/self.masses('411'))**2)**2-4.*(mass/self.masses('411'))**2)\",\n",
    "    generator = \"Pythia8\",\n",
    "    energy = energy,\n",
    "    nsample = 10\n",
    ")"
   ]
  },
  {
   "cell_type": "markdown",
   "metadata": {},
   "source": [
    "We can also produce the dark photon via it's resonant mixing with the SM vector mesons, in particular the $\\omega$, $\\rho$ and $\\phi$ mesons. Following [arXiv:1810.01879](https://arxiv.org/pdf/1810.01879.pdf), we can write \n",
    "\n",
    "\\begin{equation}\n",
    "    \\sigma(A') = \\theta_V^2 \\  \\sigma(V)\n",
    "    \\quad\\quad\\text{with}\\quad\\quad\n",
    "    \\theta_V = \\frac{\\epsilon e}{g_V}  \\frac{m_V^2}{m_{A'}^2 - m_V^2 + i m_V \\Gamma_V}\n",
    "\\end{equation}\n",
    "\n",
    "Here $g_\\omega = 17$, $g_\\rho=5$ and $g_\\phi=-12.88$. We can specify this production mode using `model.add_production_mixing()`. In the following, we focus on the $\\rho$, which provides the leading contribution. "
   ]
  },
  {
   "cell_type": "code",
   "execution_count": 7,
   "metadata": {},
   "outputs": [
    {
     "data": {
      "text/plain": [
       "'model.add_production_mixing(\\n    pid = \"113\",\\n    mixing = \"coupling * 0.3/5. * 0.77545**2/abs(mass**2-0.77545**2+0.77545*0.147*1j)\",\\n    generator = \"EPOSLHC\",\\n    energy = energy,\\n)'"
      ]
     },
     "execution_count": 7,
     "metadata": {},
     "output_type": "execute_result"
    }
   ],
   "source": [
    "'''model.add_production_mixing(\n",
    "    pid = \"113\",\n",
    "    mixing = \"coupling * 0.3/5. * 0.77545**2/abs(mass**2-0.77545**2+0.77545*0.147*1j)\",\n",
    "    generator = \"EPOSLHC\",\n",
    "    energy = energy,\n",
    ")'''"
   ]
  },
  {
   "cell_type": "markdown",
   "metadata": {},
   "source": [
    "Particles can also be produced directly in collisions. In the case of dark photons, this proceeds through Bremsstrahlung at lower masses or through Drell-Yan production at higher masses. The spectra for LLPs at some reference coupling need to be provided for a fixed set of masses in the `model/direct` directory. We also provide an option to implement additional conditions in terms of the momentum `p`, in this case the requirement that pT of dark photon produced in Bremssteahlung is smaller than 1 GeV."
   ]
  },
  {
   "cell_type": "code",
   "execution_count": 8,
   "metadata": {},
   "outputs": [
    {
     "data": {
      "text/plain": [
       "'model.add_production_direct(\\n    label = \"DY\",\\n    energy = energy,\\n    coupling_ref=1,\\n    masses = [\\n        1.00, 1.122, 1.258, 1.412, 1.501, 1.541, 1.549, 1.584, 1.778, 1.801, \\n        1.821, 1.841, 1.844, 1.995, 2.238, 2.511, 2.818, 3.162, 3.548, 3.981, \\n        4.466, 4.601, 4.666, 4.701, 4.731, 4.901, 5.011, 5.012, 5.101, 5.171, \\n        5.178, 5.623, 6.309, 7.079, 7.943, 8.912, 10.01, 11.22, 12.58, 14.12, \\n        15.84, 17.78, 19.95, 22.38, 25.11, 28.18, 31.62, 35.48, 39.81, 44.66, \\n        50.11, 56.23, 63.09, 70.79, 79.43, 89.12, 100.01\\n    ]\\n)'"
      ]
     },
     "execution_count": 8,
     "metadata": {},
     "output_type": "execute_result"
    }
   ],
   "source": [
    "'''masses_brem = [ \n",
    "    0.01  ,  0.0126,  0.0158,  0.02  ,  0.0251,  0.0316,  0.0398,\n",
    "    0.0501,  0.0631,  0.0794,  0.1   ,  0.1122,  0.1259,  0.1413,\n",
    "    0.1585,  0.1778,  0.1995,  0.2239,  0.2512,  0.2818,  0.3162,\n",
    "    0.3548,  0.3981,  0.4467,  0.5012,  0.5623,  0.6026,  0.631 ,\n",
    "    0.6457,  0.6607,  0.6761,  0.6918,  0.7079,  0.7244,  0.7413,\n",
    "    0.7586,  0.7762,  0.7943,  0.8128,  0.8318,  0.8511,  0.871 ,\n",
    "    0.8913,  0.912 ,  0.9333,  0.955 ,  0.9772,  1.    ,  1.122 ,\n",
    "    1.2589,  1.4125,  1.5849,  1.7783,  1.9953,  2.2387,  2.5119,\n",
    "    2.8184,  3.1623,  3.9811,  5.0119,  6.3096,  7.9433, 10.    \n",
    "]'''\n",
    "\n",
    "'''model.add_production_direct(\n",
    "    label = \"Brem\",\n",
    "    energy = energy,\n",
    "    condition = \"p.pt<1\",\n",
    "    coupling_ref=1,\n",
    "    masses = masses_brem,\n",
    ")\n",
    "\n",
    "masses_dy = [ \n",
    "    1.5849,  1.7783,  1.9953,  2.2387,  2.5119, 2.8184,  3.1623,  3.9811,  5.0119,  6.3096,  7.9433, 10.    \n",
    "]\n",
    "\n",
    "model.add_production_direct(\n",
    "    label = \"DY\",\n",
    "    energy = energy,\n",
    "    coupling_ref=1,\n",
    "    masses = masses_dy,\n",
    ")'''\n",
    "'''model.add_production_direct(\n",
    "    label = \"DY\",\n",
    "    energy = energy,\n",
    "    coupling_ref=1,\n",
    "    masses = [\n",
    "        1.00, 1.122, 1.258, 1.412, 1.501, 1.541, 1.549, 1.584, 1.778, 1.801, \n",
    "        1.821, 1.841, 1.844, 1.995, 2.238, 2.511, 2.818, 3.162, 3.548, 3.981, \n",
    "        4.466, 4.601, 4.666, 4.701, 4.731, 4.901, 5.011, 5.012, 5.101, 5.171, \n",
    "        5.178, 5.623, 6.309, 7.079, 7.943, 8.912, 10.01, 11.22, 12.58, 14.12, \n",
    "        15.84, 17.78, 19.95, 22.38, 25.11, 28.18, 31.62, 35.48, 39.81, 44.66, \n",
    "        50.11, 56.23, 63.09, 70.79, 79.43, 89.12, 100.01\n",
    "    ]\n",
    ")'''"
   ]
  },
  {
   "cell_type": "markdown",
   "metadata": {},
   "source": [
    "**Lifetime:** For most models the lifetime can be written as $\\ c\\tau(m,g)\\  =\\  c\\tau(m,g_*) \\ \\cdot\\  g_*^2 \\ / \\ g^{2}$ where $m$ is the mass, $g$ is the coupling and $g_*$ is some reference coupling. In this case, we can provide a table of masses $m$ and lifetimes $c\\tau(m,g_*)$ at a reference coupling $g_*$ using `model.set_ctau_1d`. Alternatively, one can also provide a table of masses $m$, couplings $g$ and lifetimes $c\\tau(m,g)$ via `model.set_ctau_2d()`. "
   ]
  },
  {
   "cell_type": "code",
   "execution_count": 9,
   "metadata": {},
   "outputs": [],
   "source": [
    "model.set_ctau_1d(\n",
    "    filename=\"model/ctau.txt\", \n",
    "    coupling_ref=10**-3.5\n",
    ")"
   ]
  },
  {
   "cell_type": "markdown",
   "metadata": {},
   "source": [
    "**Branching Fractions:** For most models, the branching fractions into particular decay channels are independent of the overall couplings. In this case, we can provide a set of tables of masses $m$ and branching fractions $BR(m)$ using `model.set_br_1d`. Alternatively, we can also provide table of masses $m$, couplings $g$ and branching fraction $BR(m,g)$ via `model.set_br_2d()`. In both cases, we need to specify a list of decay modes and a list of filenames with the corresponding data tables. "
   ]
  },
  {
   "cell_type": "code",
   "execution_count": 10,
   "metadata": {},
   "outputs": [],
   "source": [
    "model.set_br_1d(\n",
    "    modes=[\"e_mu\", \"e_tau\"],\n",
    "    finalstates=[[11,13], [11,15]],\n",
    "    filenames=[\"model/br/br_elecmuon.txt\",\"model/br/br_electau.txt\"]\n",
    ")"
   ]
  },
  {
   "cell_type": "markdown",
   "metadata": {},
   "source": [
    "## 3. Generate LLP Spectra"
   ]
  },
  {
   "cell_type": "markdown",
   "metadata": {},
   "source": [
    "After we have specified the model, let us generate the LLP spectra. We first set the model we just created. "
   ]
  },
  {
   "cell_type": "code",
   "execution_count": 11,
   "metadata": {},
   "outputs": [],
   "source": [
    "foresee.set_model(model=model)"
   ]
  },
  {
   "cell_type": "markdown",
   "metadata": {},
   "source": [
    "Let's first look at one benchmark scenario with $M_{N}=1$ GeV and $\\epsilon=10^{-3}$ using the function `foresee.get_llp_spectrum()`. By default, the result are saved in the `model/LLP_spectra` directory. However, here set `save_file=False` since we don't want to save the results but set `do_plot=True` to plot them. "
   ]
  },
  {
   "cell_type": "code",
   "execution_count": 12,
   "metadata": {},
   "outputs": [
    {
     "data": {
      "image/png": "[encoded data removed]",
      "text/plain": [
       "<Figure size 576x396 with 2 Axes>"
      ]
     },
     "metadata": {
      "needs_background": "light"
     },
     "output_type": "display_data"
    }
   ],
   "source": [
    "plot = foresee.get_llp_spectrum(1, coupling=10**-3.5, do_plot=True, save_file=False)\n",
    "plot.show()"
   ]
  },
  {
   "cell_type": "markdown",
   "metadata": {},
   "source": [
    "We can now produce a set of LLP spectra for various masses  (chosen to be equally spaced in log(mass)) and unit coupling and save them. "
   ]
  },
  {
   "cell_type": "code",
   "execution_count": 13,
   "metadata": {},
   "outputs": [
    {
     "name": "stdout",
     "output_type": "stream",
     "text": [
      "save data to file: ./model/LLP_spectra/14TeV_411_m_0.01.npy\n",
      "save data to file: ./model/LLP_spectra/14TeV_411_m_0.0126.npy\n",
      "save data to file: ./model/LLP_spectra/14TeV_411_m_0.0158.npy\n",
      "save data to file: ./model/LLP_spectra/14TeV_411_m_0.02.npy\n",
      "save data to file: ./model/LLP_spectra/14TeV_411_m_0.0251.npy\n",
      "save data to file: ./model/LLP_spectra/14TeV_411_m_0.0316.npy\n",
      "save data to file: ./model/LLP_spectra/14TeV_411_m_0.0398.npy\n",
      "save data to file: ./model/LLP_spectra/14TeV_411_m_0.0501.npy\n",
      "save data to file: ./model/LLP_spectra/14TeV_411_m_0.0631.npy\n",
      "save data to file: ./model/LLP_spectra/14TeV_411_m_0.0794.npy\n",
      "save data to file: ./model/LLP_spectra/14TeV_411_m_0.1.npy\n",
      "save data to file: ./model/LLP_spectra/14TeV_411_m_0.1122.npy\n",
      "save data to file: ./model/LLP_spectra/14TeV_411_m_0.1259.npy\n",
      "save data to file: ./model/LLP_spectra/14TeV_411_m_0.1413.npy\n",
      "save data to file: ./model/LLP_spectra/14TeV_411_m_0.1585.npy\n",
      "save data to file: ./model/LLP_spectra/14TeV_411_m_0.1778.npy\n",
      "save data to file: ./model/LLP_spectra/14TeV_411_m_0.1995.npy\n",
      "save data to file: ./model/LLP_spectra/14TeV_411_m_0.2239.npy\n",
      "save data to file: ./model/LLP_spectra/14TeV_411_m_0.2512.npy\n",
      "save data to file: ./model/LLP_spectra/14TeV_411_m_0.2818.npy\n",
      "save data to file: ./model/LLP_spectra/14TeV_411_m_0.3162.npy\n",
      "save data to file: ./model/LLP_spectra/14TeV_411_m_0.3548.npy\n",
      "save data to file: ./model/LLP_spectra/14TeV_411_m_0.3981.npy\n",
      "save data to file: ./model/LLP_spectra/14TeV_411_m_0.4467.npy\n",
      "save data to file: ./model/LLP_spectra/14TeV_411_m_0.5012.npy\n",
      "save data to file: ./model/LLP_spectra/14TeV_411_m_0.5623.npy\n",
      "save data to file: ./model/LLP_spectra/14TeV_411_m_0.6026.npy\n",
      "save data to file: ./model/LLP_spectra/14TeV_411_m_0.631.npy\n",
      "save data to file: ./model/LLP_spectra/14TeV_411_m_0.6457.npy\n",
      "save data to file: ./model/LLP_spectra/14TeV_411_m_0.6607.npy\n",
      "save data to file: ./model/LLP_spectra/14TeV_411_m_0.6761.npy\n",
      "save data to file: ./model/LLP_spectra/14TeV_411_m_0.6918.npy\n",
      "save data to file: ./model/LLP_spectra/14TeV_411_m_0.7079.npy\n",
      "save data to file: ./model/LLP_spectra/14TeV_411_m_0.7244.npy\n",
      "save data to file: ./model/LLP_spectra/14TeV_411_m_0.7413.npy\n",
      "save data to file: ./model/LLP_spectra/14TeV_411_m_0.7586.npy\n",
      "save data to file: ./model/LLP_spectra/14TeV_411_m_0.7762.npy\n",
      "save data to file: ./model/LLP_spectra/14TeV_411_m_0.7943.npy\n",
      "save data to file: ./model/LLP_spectra/14TeV_411_m_0.8128.npy\n",
      "save data to file: ./model/LLP_spectra/14TeV_411_m_0.8318.npy\n",
      "save data to file: ./model/LLP_spectra/14TeV_411_m_0.8511.npy\n",
      "save data to file: ./model/LLP_spectra/14TeV_411_m_0.871.npy\n",
      "save data to file: ./model/LLP_spectra/14TeV_411_m_0.8913.npy\n",
      "save data to file: ./model/LLP_spectra/14TeV_411_m_0.912.npy\n",
      "save data to file: ./model/LLP_spectra/14TeV_411_m_0.9333.npy\n",
      "save data to file: ./model/LLP_spectra/14TeV_411_m_0.955.npy\n",
      "save data to file: ./model/LLP_spectra/14TeV_411_m_0.9772.npy\n",
      "save data to file: ./model/LLP_spectra/14TeV_411_m_1.0.npy\n",
      "save data to file: ./model/LLP_spectra/14TeV_411_m_1.122.npy\n",
      "save data to file: ./model/LLP_spectra/14TeV_411_m_1.2589.npy\n",
      "save data to file: ./model/LLP_spectra/14TeV_411_m_1.4125.npy\n",
      "save data to file: ./model/LLP_spectra/14TeV_411_m_1.5849.npy\n",
      "save data to file: ./model/LLP_spectra/14TeV_411_m_1.7783.npy\n"
     ]
    }
   ],
   "source": [
    "masses = [ \n",
    "    0.01  ,  0.0126,  0.0158,  0.02  ,  0.0251,  0.0316,  0.0398,\n",
    "    0.0501,  0.0631,  0.0794,  0.1   ,  0.1122,  0.1259,  0.1413,\n",
    "    0.1585,  0.1778,  0.1995,  0.2239,  0.2512,  0.2818,  0.3162,\n",
    "    0.3548,  0.3981,  0.4467,  0.5012,  0.5623,  0.6026,  0.631 ,\n",
    "    0.6457,  0.6607,  0.6761,  0.6918,  0.7079,  0.7244,  0.7413,\n",
    "    0.7586,  0.7762,  0.7943,  0.8128,  0.8318,  0.8511,  0.871 ,\n",
    "    0.8913,  0.912 ,  0.9333,  0.955 ,  0.9772,  1.    ,  1.122 ,\n",
    "    1.2589,  1.4125,  1.5849,  1.7783,  1.9953,  2.2387,  2.5119,\n",
    "    2.8184,  3.1623,  3.9811,  5.0119,  6.3096,  7.9433, 10.    \n",
    "]\n",
    "\n",
    "for mass in masses:\n",
    "    foresee.get_llp_spectrum(mass=mass,coupling=10**-3.5)"
   ]
  },
  {
   "cell_type": "markdown",
   "metadata": {},
   "source": [
    "## 4. Count Event Rate in Detector"
   ]
  },
  {
   "cell_type": "markdown",
   "metadata": {},
   "source": [
    "Before counting the number of decays within the detector volume, let us specify the detector geometry. For this we need\n",
    "\n",
    "- the `distance` from the IP in meter (default: 480)\n",
    "- the `length` in meter (default: 5)\n",
    "- the `luminosity` in units of fb^-1 (default: 3000)\n",
    "- the `selection` depending in `x.x` and `x.y` (default: `np.sqrt(x.x**2 + x.y**2)< 1`)\n",
    "- the decay `channels` which the detector can see (default: None, meaning all of them)\n",
    "\n",
    "The default correspond to the FASER2 detector."
   ]
  },
  {
   "cell_type": "code",
   "execution_count": 14,
   "metadata": {},
   "outputs": [],
   "source": [
    "distance, selection, length, luminosity, channels = 480, \"np.sqrt(x.x**2 + x.y**2)< 1\", 5, 3000, None\n",
    "foresee.set_detector(distance=distance, selection=selection, length=length, luminosity=luminosity, channels=channels)"
   ]
  },
  {
   "cell_type": "markdown",
   "metadata": {},
   "source": [
    "Let us look for one specific HNL mass $M_{N}=1$ GeV at how many particle decay inside the decay volume. This can be done using `get_events()` for which we need to specify again the mass and filename. Additionally, we can specify \n",
    "\n",
    "- the `couplings` for which we evaluate the event rate as numpy array (deault `np.logspace(-8,-3,51)`)\n",
    "- the `preselectioncuts` when reading the LLP spectra in terms of momentum `p` and angle `th` (default: `th<0.01 and p>100`)\n",
    "- the number `nsample` describing how many randomly choosen values of $\\phi_{LLP}$ should sampled (default 1). This is only relevant for detectors that are not cylyndrical or not centered around the beam axis. \n",
    "- the production `modes` which should be considered\n",
    "- the `energy` of the experiments"
   ]
  },
  {
   "cell_type": "code",
   "execution_count": 15,
   "metadata": {},
   "outputs": [
    {
     "name": "stdout",
     "output_type": "stream",
     "text": [
      "epsilon = 1.000e-10 : nsignal = 7.888e-27\n",
      "epsilon = 3.981e-10 : nsignal = 1.981e-24\n",
      "epsilon = 1.585e-09 : nsignal = 4.977e-22\n",
      "epsilon = 6.310e-09 : nsignal = 1.250e-19\n",
      "epsilon = 2.512e-08 : nsignal = 3.140e-17\n",
      "epsilon = 1.000e-07 : nsignal = 7.886e-15\n"
     ]
    }
   ],
   "source": [
    "mass=1.\n",
    "output = foresee.get_events(mass=mass, energy=energy, couplings=np.logspace(-10,-7,6))\n",
    "coups, ctaus, nsigs, energies, weights, _ = output\n",
    "for coup,ctau,nsig in zip(coups, ctaus, nsigs):\n",
    "    print (\"epsilon =\", '{:5.3e}'.format(coup), \": nsignal =\", '{:5.3e}'.format(nsig))\n"
   ]
  },
  {
   "cell_type": "markdown",
   "metadata": {},
   "source": [
    "The previous function also outputs the energy distribution of the HNL particles which decay inside the detector. Let's have a look at them."
   ]
  },
  {
   "cell_type": "code",
   "execution_count": 16,
   "metadata": {},
   "outputs": [
    {
     "data": {
      "image/png": "[encoded data removed]",
      "text/plain": [
       "<Figure size 504x360 with 1 Axes>"
      ]
     },
     "metadata": {
      "needs_background": "light"
     },
     "output_type": "display_data"
    }
   ],
   "source": [
    "fig = plt.figure(figsize=(7,5))\n",
    "ax = plt.subplot(1,1,1)\n",
    "ens=[]\n",
    "for coup,en,weight in zip(coups,energies,weights):\n",
    "    if sum(weight)<10**-13 : continue\n",
    "    ens.append(en)\n",
    "    ax.hist(en, weights=weight, bins=np.logspace(2,4, 20), histtype='step', label=r\"$\\epsilon=$\"+str(coup)) \n",
    "    ax.set_xscale(\"log\")\n",
    "    ax.set_yscale(\"log\")\n",
    "    ax.set_ylim(10**-13,3*10**-11) \n",
    "    ax.set_xlabel(\"E(N) [GeV]\") \n",
    "    ax.set_ylabel(\"Number of Events per bin\") \n",
    "    ax.legend(frameon=False, labelspacing=0)\n",
    "plt.tight_layout()\n",
    "plt.show()"
   ]
  },
  {
   "cell_type": "markdown",
   "metadata": {},
   "source": [
    "FORESEE also includes a function `write_events()` which obtains an unweighted sample of LLP decay events and saves them as a HEPMC file. For this function, we need to specify\n",
    "- the `mass` and `coupling` of the LLP\n",
    "- the collision `energy`\n",
    "- the number of events `numberevent` that should be samples (optional, default=10)\n",
    "- the `filename` of the output file (optional, default=`model/events/<mass>_<coupling>.hepmc`)\n",
    "- the z-position (in meter) of the beginning of the decay volume (optional, default=0)\n",
    "- a random `seed` (optional, default=None)\n",
    "- the `decaychannels` for which the event should bbe written to file (optional, default=None meaning that all channels are written to file)\n",
    "\n",
    "At the moment, FORESEE only supports 2-body LLP decays. For all other cases, including those where no final state information was specified when initiating the `Model`, the LLP will not be decayed. "
   ]
  },
  {
   "cell_type": "code",
   "execution_count": 17,
   "metadata": {},
   "outputs": [
    {
     "name": "stdout",
     "output_type": "stream",
     "text": [
      "0.1377709\n"
     ]
    }
   ],
   "source": [
    "foresee.write_events(filename=\"model/events/test.hepmc\", mass=1.7783, coupling=2.512e-07, \n",
    "    energy=\"14\", numberevent=10, zfront=0, decaychannels=[\"e_mu\"])"
   ]
  },
  {
   "cell_type": "markdown",
   "metadata": {},
   "source": [
    "Let us have a look at a the output:"
   ]
  },
  {
   "cell_type": "code",
   "execution_count": 18,
   "metadata": {},
   "outputs": [
    {
     "name": "stdout",
     "output_type": "stream",
     "text": [
      "HepMC::Version 2.06.09\n",
      "HepMC::IO_GenEvent-START_EVENT_LISTING\n",
      "E 0 -1 -1. -1. -1. 0 -1 1 1 0 0 0\n",
      "U GEV MM\n",
      "C 7.684933818871377e-15 0.\n",
      "F 0 0 0 0 0 0 0 0 0\n",
      "V -1 0 64.2100358504 677.4308905238 226.2652322376 224760777242.7093 1 2 0\n",
      "P 1 32 0.0220887169 0.2330411273 165.1233619761 165.1331033357 1.7783 2 0 0 -1 0\n",
      "P 2 11 0.0029951705 -0.2802365796 4.415052719 4.4239385489 0.000511 1 0 0 0 0\n",
      "P 3 13 0.0190935463 0.5132777069 160.7083092571 160.7091647867 0.105658 1 0 0 0 0\n",
      "E 1 -1 -1. -1. -1. 0 -1 1 1 0 0 0\n",
      "U GEV MM\n",
      "C 7.684933818871377e-15 0.\n",
      "F 0 0 0 0 0 0 0 0 0\n",
      "V -1 0 120.3261325224 842.9288473476 3613.6503196919 1553857125894.72 1 2 0\n",
      "P 1 32 0.050301376 0.3523796537 200.6599452596 200.6681406804 1.7783 2 0 0 -1 0\n",
      "P 2 11 0.6021632722 0.8614338455 123.3476706308 123.3521484173 0.0005109986 1 0 0 0 0\n",
      "P 3 13 -0.5518618962 -0.5090541918 77.3122746293 77.3159922635 0.105658 1 0 0 0 0\n",
      "E 2 -1 -1. -1. -1. 0 -1 1 1 0 0 0\n",
      "U GEV MM\n",
      "C 7.684933818871377e-15 0.\n",
      "F 0 0 0 0 0 0 0 0 0\n",
      "V -1 0 -629.3077146382 -195.3178241544 1076.927816497 460643732909.7434 1 2 0\n",
      "P 1 32 -0.1525081228 -0.0473338464 116.324416921 116.3381185258 1.7783 2 0 0 -1 0\n",
      "P 2 11 0.668889783 -0.0213061709 85.3426985521 85.3453224489 0.0005110022 1 0 0 0 0\n",
      "P 3 13 -0.8213979058 -0.0260276755 30.9817183689 30.9927960769 0.105658 1 0 0 0 0\n",
      "E 3 -1 -1. -1. -1. 0 -1 1 1 0 0 0\n",
      "U GEV MM\n",
      "C 7.684933818871377e-15 0.\n",
      "F 0 0 0 0 0 0 0 0 0\n",
      "V -1 0 597.7796330507 -127.366484783 3415.3834845917 1449528193019.4092 1 2 0\n",
      "P 1 32 1.7564381273 -0.3742371564 1410.3689702045 1410.3712346737 1.7783000001 2 0 0 -1 0\n",
      "P 2 11 -0.1382172055 -0.4625499645 137.6080222107 137.6088690219 0.0005110128 1 0 0 0 0\n",
      "P 3 13 1.8946553329 0.0883128081 1272.7609479943 1272.7623656524 0.1056579994 1 0 0 0 0\n",
      "E 4 -1 -1. -1. -1. 0 -1 1 1 0 0 0\n",
      "U GEV MM\n",
      "C 7.684933818871377e-15 0.\n",
      "F 0 0 0 0 0 0 0 0 0\n",
      "V -1 0 420.3624045786 86.1372704412 2755.5969402223 1169386324571.7922 1 2 0\n",
      "P 1 32 0.9657475169 0.1978931849 1102.7596178285 1102.7614922975 1.7782999999 2 0 0 -1 0\n",
      "P 2 11 0.4942541373 -0.0821597617 1013.6791959469 1013.6793197719 0.000511454 1 0 0 0 0\n",
      "P 3 13 0.4714933796 0.2800529466 89.0804218843 89.0821725283 0.105658 1 0 0 0 0\n",
      "E 5 -1 -1. -1. -1. 0 -1 1 1 0 0 0\n",
      "U GEV MM\n",
      "C 7.684933818871377e-15 0.\n",
      "F 0 0 0 0 0 0 0 0 0\n",
      "V -1 0 299.6157533377 480.0392973891 2046.222961978 880002562073.574 1 2 0\n",
      "P 1 32 0.1541756351 0.2470175975 246.9972615212 247.0038346619 1.7783 2 0 0 -1 0\n",
      "P 2 11 -0.4031243991 -0.5536799087 58.3172212747 58.3212428553 0.000510999 1 0 0 0 0\n",
      "P 3 13 0.5573000342 0.8006975062 188.6800402464 188.6825918065 0.105658 1 0 0 0 0\n",
      "E 6 -1 -1. -1. -1. 0 -1 1 1 0 0 0\n",
      "U GEV MM\n",
      "C 7.684933818871377e-15 0.\n",
      "F 0 0 0 0 0 0 0 0 0\n",
      "V -1 0 733.6407315134 558.0525860613 1948.3965386193 843417378822.3246 1 2 0\n",
      "P 1 32 0.8633968894 0.6567531575 564.8950224035 564.8988630419 1.7783 2 0 0 -1 0\n",
      "P 2 11 0.9157046156 -0.1272192428 137.6250362397 137.6281413808 0.0005109986 1 0 0 0 0\n",
      "P 3 13 -0.0523077262 0.7839724003 427.269986167 427.2707216644 0.1056579998 1 0 0 0 0\n",
      "E 7 -1 -1. -1. -1. 0 -1 1 1 0 0 0\n",
      "U GEV MM\n",
      "C 7.684933818871377e-15 0.\n",
      "F 0 0 0 0 0 0 0 0 0\n",
      "V -1 0 125.8986216715 371.3939607266 1028.9331501726 450533716407.67926 1 2 0\n",
      "P 1 32 0.2418467807 0.7134346079 922.0627468352 922.0647693795 1.7783 2 0 0 -1 0\n",
      "P 2 11 0.8900980041 0.4968480388 741.0880355243 741.0887366098 0.0005111125 1 0 0 0 0\n",
      "P 3 13 -0.6482512234 0.216586569 180.9747113013 180.9760327601 0.105658 1 0 0 0 0\n",
      "E 8 -1 -1. -1. -1. 0 -1 1 1 0 0 0\n",
      "U GEV MM\n",
      "C 7.684933818871377e-15 0.\n",
      "F 0 0 0 0 0 0 0 0 0\n",
      "V -1 0 -359.0814785036 94.3278914938 597.7371643703 255172386399.33743 1 2 0\n",
      "P 1 32 -0.5935169365 0.1559122498 793.3800259045 793.382256183 1.7783 2 0 0 -1 0\n",
      "P 2 11 -0.6015136058 0.823318837 631.0424925993 631.0433163728 0.0005111694 1 0 0 0 0\n",
      "P 3 13 0.0079966693 -0.6674065872 162.337533314 162.3389398191 0.105658 1 0 0 0 0\n",
      "E 9 -1 -1. -1. -1. 0 -1 1 1 0 0 0\n",
      "U GEV MM\n",
      "C 7.684933818871377e-15 0.\n",
      "F 0 0 0 0 0 0 0 0 0\n",
      "V -1 0 397.3053659513 -78.1836870944 4191.734270916 1778556903120.7395 1 2 0\n",
      "P 1 32 0.3085304628 -0.0607141288 372.7475129428 372.7518874979 1.7783 2 0 0 -1 0\n",
      "P 2 11 0.6347891873 -0.190727832 354.8407161198 354.8413351783 0.0005110128 1 0 0 0 0\n",
      "P 3 13 -0.3262587245 0.1300137032 17.9067968237 17.9105523202 0.105658 1 0 0 0 0\n",
      "HepMC::IO_GenEvent-END_EVENT_LISTING\n",
      "\n"
     ]
    }
   ],
   "source": [
    "f = open(\"model/events/test.hepmc\", 'r')\n",
    "file_contents = f.read()\n",
    "print (file_contents)"
   ]
  },
  {
   "cell_type": "markdown",
   "metadata": {},
   "source": [
    "## 5. Parameter Scan"
   ]
  },
  {
   "cell_type": "markdown",
   "metadata": {},
   "source": [
    "In the following, we will get the LLP sensitivity reach for different detector configuraions. As an example, we show the FASER2 reach for dark photons for 3 scenarios. We just need to loop over different masses and use the previously introduced funtion `get_events`. The results will be written into a `.npy` file that we can store and plot later."
   ]
  },
  {
   "cell_type": "markdown",
   "metadata": {},
   "source": [
    "- the nominal/default setup"
   ]
  },
  {
   "cell_type": "code",
   "execution_count": 19,
   "metadata": {},
   "outputs": [
    {
     "name": "stderr",
     "output_type": "stream",
     "text": [
      "/opt/miniconda3/envs/forsee/lib/python3.10/site-packages/numpy/lib/npyio.py:518: VisibleDeprecationWarning: Creating an ndarray from ragged nested sequences (which is a list-or-tuple of lists-or-tuples-or ndarrays with different lengths or shapes) is deprecated. If you meant to do this, you must specify 'dtype=object' when creating the ndarray.\n",
      "  arr = np.asanyarray(arr)\n"
     ]
    }
   ],
   "source": [
    "#this part works, just long run time\n",
    "#specify setup\n",
    "luminosity, distance = 3000 , 480\n",
    "setup, selection, channels = \"default\", \"np.sqrt(x.x**2 + x.y**2)< 1\", None\n",
    "foresee.set_detector(selection=selection, channels=channels, distance=distance, luminosity=luminosity)\n",
    "\n",
    "#get reach \n",
    "list_nevents = []    \n",
    "for mass in masses:\n",
    "    couplings, _, nevents, _, _ , _ = foresee.get_events(mass=mass, energy=energy)\n",
    "    list_nevents.append(nevents)  \n",
    "    \n",
    "#save results\n",
    "np.save(model.modelpath+\"model/results/\"+energy+\"TeV_\"+setup+\".npy\",[masses,couplings,list_nevents])"
   ]
  },
  {
   "cell_type": "markdown",
   "metadata": {},
   "source": [
    "- a displaced setup, in which the detector is displaced by 1m from it's nominal position"
   ]
  },
  {
   "cell_type": "code",
   "execution_count": 20,
   "metadata": {},
   "outputs": [],
   "source": [
    "#this part works, just long run time\n",
    "\n",
    "#specify setup\n",
    "luminosity, distance = 3000 , 480\n",
    "setup, selection, channels = \"displaced\", \"np.sqrt((x.x-1)**2 + x.y**2)< 1\", None\n",
    "foresee.set_detector(selection=selection, channels=channels, distance=distance, luminosity=luminosity)\n",
    "\n",
    "#get reach \n",
    "list_nevents = []    \n",
    "for mass in masses:\n",
    "    couplings, _, nevents, _, _ , _ = foresee.get_events(mass=mass, energy=energy)\n",
    "    list_nevents.append(nevents)  \n",
    "    \n",
    "#save results\n",
    "np.save(model.modelpath+\"model/results/\"+energy+\"TeV_\"+setup+\".npy\",[masses,couplings,list_nevents])"
   ]
  },
  {
   "cell_type": "markdown",
   "metadata": {},
   "source": [
    "- a search that only considered dark photon decays into electrons "
   ]
  },
  {
   "cell_type": "code",
   "execution_count": 21,
   "metadata": {},
   "outputs": [],
   "source": [
    "#this part works, just long run time\n",
    "\n",
    "#specify setup\n",
    "luminosity, distance = 3000 , 480\n",
    "setup, selection, channels = \"electron\", \"np.sqrt(x.x**2 + x.y**2)< 1\", [\"e_mu\"]\n",
    "foresee.set_detector(selection=selection, channels=channels, distance=distance, luminosity=luminosity)\n",
    "\n",
    "#get reach \n",
    "list_nevents = []    \n",
    "for mass in masses:\n",
    "    couplings, _, nevents, _, _ , _ = foresee.get_events(mass=mass, energy=energy)\n",
    "    list_nevents.append(nevents)  \n",
    "    \n",
    "#save results\n",
    "np.save(model.modelpath+\"model/results/\"+energy+\"TeV_\"+setup+\".npy\",[masses,couplings,list_nevents])"
   ]
  },
  {
   "cell_type": "markdown",
   "metadata": {},
   "source": [
    "## 6. Plot the Results"
   ]
  },
  {
   "cell_type": "markdown",
   "metadata": {},
   "source": [
    "Now let's plot the results. We first specify all detector setups for which we want to show result (filename in model/results directory, label, color, linestyle, opacity alpha for filled contours, required number of events)."
   ]
  },
  {
   "cell_type": "code",
   "execution_count": 22,
   "metadata": {},
   "outputs": [],
   "source": [
    "setups = [\n",
    "    [\"14TeV_default.npy\",    \"default\"  , \"red\",     \"solid\", 0., 3],\n",
    "    [\"14TeV_displaced.npy\",  \"displaced\", \"orange\",  \"solid\", 0., 3],\n",
    "    [\"14TeV_electron.npy\",   \"electron\" , \"magenta\", \"solid\", 0., 3],\n",
    "]"
   ]
  },
  {
   "cell_type": "markdown",
   "metadata": {},
   "source": [
    "Then we specify all the existing bounds (filename in model/bounds directory, label, label position x, label position y, label rotation)"
   ]
  },
  {
   "cell_type": "markdown",
   "metadata": {},
   "source": [
    "We then specify other projected sensitivitities (filename in model/bounds directory, color, label, label position x, label position y, label rotation)"
   ]
  },
  {
   "cell_type": "code",
   "execution_count": 23,
   "metadata": {},
   "outputs": [
    {
     "data": {
      "text/plain": [
       "'[\\'limits_CODEX_el.txt\\',           \"blue\",    \"NA62\"    ,.1, 0.0003, 0  ],\\n    [\"limits_MATHUSLA_el.txt\",           \"forestgreen\",  \"SHiP\"    , 0.3, 0.0001 , 0  ]'"
      ]
     },
     "execution_count": 23,
     "metadata": {},
     "output_type": "execute_result"
    }
   ],
   "source": [
    "bounds = [ \n",
    "    [\"bounds_BBN_el.txt\",  \"BBN\"  , 3*10**-1    , 3*10**-5        , -40  ],\n",
    "    [\"bounds_el.txt\",None,  0.220, 0.9*10**-4, 0  ],\n",
    "    ]\n",
    "\n",
    "'''[\"bounds_LHCb_el.txt\",  \"LHCb\"  , 0    , 0         , 0  ]\n",
    "    [\"bounds_el.txt\", None,  0.220, 0.9*10**-4, 0  ],\n",
    "'''\n",
    "\n",
    "#this one doesnt even show up\n",
    "#[\"bounds_LHCb_el.txt\",  None  , 0    , 0         , 0  ]\n",
    "\n",
    "\n",
    "projections = [\n",
    "\n",
    "\n",
    "\n",
    "\n",
    "    [\"limits_SHiP_el.txt\",           \"orange\",  \"SHiP\"    , 3, 8.2*10**-5, 0  ],\n",
    "    [\"limits_NA62_el.txt\",           \"blue\",    \"NA62\"    ,1, 0.0002 , 0  ],\n",
    "    [\"limits_DUNE_el.txt\",           \"magenta\",    \"DUNE\"    ,0.6, 0.00009 , 0  ]\n",
    "\n",
    "\n",
    "\n",
    "]\n",
    "'''['limits_CODEX_el.txt',           \"blue\",    \"NA62\"    ,.1, 0.0003, 0  ],\n",
    "    [\"limits_MATHUSLA_el.txt\",           \"forestgreen\",  \"SHiP\"    , 0.3, 0.0001 , 0  ]'''\n",
    "\n",
    "\n",
    "\n"
   ]
  },
  {
   "cell_type": "markdown",
   "metadata": {},
   "source": [
    "Finally, we can plot everything using `foresee.plot_reach()`. It returns a matplotlib instance, to which we can add further lines and which we can show or save. Below, we add the dark matter relict target line for a specific benchmark."
   ]
  },
  {
   "cell_type": "code",
   "execution_count": 24,
   "metadata": {},
   "outputs": [
    {
     "name": "stderr",
     "output_type": "stream",
     "text": [
      "/Users/alechewitt/Desktop/Jonathan_research/Git/FORESEE/src/foresee.py:1018: UserWarning: No contour levels were found within the data range.\n",
      "  ax.contour (m,c,n, levels=[np.log10(level)]       ,colors=color,zorder=zorder, linestyles=ls)\n"
     ]
    },
    {
     "data": {
      "image/png": "[encoded data removed]",
      "text/plain": [
       "<Figure size 576x432 with 1 Axes>"
      ]
     },
     "metadata": {
      "needs_background": "light"
     },
     "output_type": "display_data"
    }
   ],
   "source": [
    "plot = foresee.plot_reach(\n",
    "    setups=setups,\n",
    "    bounds=bounds,\n",
    "    projections=projections,\n",
    "    title=\"HNL\",\n",
    "    xlims = [10**-1,10], \n",
    "    ylims=[10**-5,10**-2],\n",
    "    xlabel=r\"HNL mass $M_{N}$ [GeV]\", \n",
    "    ylabel=r\"Kinetic Mixing $|U_{eN}|$\",\n",
    "    legendloc=(1,0.68),\n",
    "    figsize=(8,6),\n",
    ")\n",
    "#digitized values from bounds on felix paper\n",
    "UeN=[0.000105657,\n",
    "0.000166075,\n",
    "0.000265000,\n",
    "0.000374817,\n",
    "0.000429368,\n",
    "0.000905614,\n",
    "0.00106895,\n",
    "0.000859359,\n",
    "0.000594447,\n",
    ".000407951,\n",
    ".000313497,\n",
    ".000351086,\n",
    ".000608800,\n",
    ".00139489,\n",
    ".00336928,\n",
    ".00653970,\n",
    ".00584161,\n",
    ".00649316,\n",
    ".00533902,\n",
    ".00374895,\n",
    ".00366726,\n",
    ".00372535,]\n",
    "MN=[0.400177,\n",
    "0.402906,\n",
    "0.399575,\n",
    "0.399349,\n",
    "0.453839,\n",
    "0.488770,\n",
    "0.488638,\n",
    "0.599131,\n",
    "0.956599,\n",
    "1.20004,\n",
    "1.57479,\n",
    "1.76296,\n",
    "2.04795,\n",
    "2.04517,\n",
    "2.08892,\n",
    "1.99439,\n",
    "2.21675,\n",
    "2.53841,\n",
    "2.97469,\n",
    "4.50532,\n",
    "6.42077,\n",
    "9.50142]\n",
    "plot.plot(MN,UeN, color=\"k\", lw=2)\n",
    "plot.subplots_adjust(left=0.12, right=0.97, bottom=0.10, top=0.95)\n",
    "plot.savefig(\"/Users/alechewitt/Desktop/Figure.pdf\")\n",
    "plot.show()"
   ]
  },
  {
   "cell_type": "markdown",
   "metadata": {},
   "source": [
    "## 7. Export Contours"
   ]
  },
  {
   "cell_type": "markdown",
   "metadata": {},
   "source": [
    "It might also be useful to extract the contours lines, and save them as a text file. This can be done using the `extract_contours()` function. As example, let us export the FASER2 line. "
   ]
  },
  {
   "cell_type": "code",
   "execution_count": 25,
   "metadata": {},
   "outputs": [
    {
     "name": "stderr",
     "output_type": "stream",
     "text": [
      "/Users/alechewitt/Desktop/Jonathan_research/Git/FORESEE/src/foresee.py:943: UserWarning: No contour levels were found within the data range.\n",
      "  cs = plt.contour (m,c,n, levels=[np.log10(nevents)])\n"
     ]
    }
   ],
   "source": [
    "foresee.extract_contours(\n",
    "    inputfile=\"model/results/14TeV_default.npy\", \n",
    "    outputfile=\"model/lines/limits_FASER2.txt\"\n",
    ")"
   ]
  }
 ],
 "metadata": {
  "kernelspec": {
   "display_name": "Python 3 (ipykernel)",
   "language": "python",
   "name": "python3"
  },
  "language_info": {
   "codemirror_mode": {
    "name": "ipython",
    "version": 3
   },
   "file_extension": ".py",
   "mimetype": "text/x-python",
   "name": "python",
   "nbconvert_exporter": "python",
   "pygments_lexer": "ipython3",
   "version": "3.9.5"
  },
  "toc": {
   "base_numbering": 1,
   "nav_menu": {
    "height": "734px",
    "width": "465px"
   },
   "number_sections": true,
   "sideBar": true,
   "skip_h1_title": false,
   "title_cell": "Table of Contents",
   "title_sidebar": "Contents",
   "toc_cell": false,
   "toc_position": {},
   "toc_section_display": true,
   "toc_window_display": false
  }
 },
 "nbformat": 4,
 "nbformat_minor": 2
}
