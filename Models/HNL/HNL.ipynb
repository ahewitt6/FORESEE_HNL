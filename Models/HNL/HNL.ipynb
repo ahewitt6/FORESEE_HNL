{
 "cells": [
  {
   "cell_type": "markdown",
   "metadata": {},
   "source": [
    "# FORESEE Tutorial - Heavy Neutral Leptons (HNLs)"
   ]
  },
  {
   "cell_type": "markdown",
   "metadata": {},
   "source": [
    "### Load Libraries "
   ]
  },
  {
   "cell_type": "code",
   "execution_count": 1,
   "metadata": {},
   "outputs": [],
   "source": [
    "import sys\n",
    "src_path = \"/Users/alechewitt/Desktop/Jonathan_research/Git/FORESEE_HNL\"\n",
    "sys.path.append(src_path)\n",
    "\n",
    "import numpy as np\n",
    "from src.foresee import Foresee, Utility, Model\n",
    "\n",
    "from matplotlib import pyplot as plt"
   ]
  },
  {
   "cell_type": "markdown",
   "metadata": {},
   "source": [
    "## 1. Initialization \n"
   ]
  },
  {
   "cell_type": "markdown",
   "metadata": {},
   "source": [
    "All function that we will need are included in the FORESEE package. We start by simply initializing it: "
   ]
  },
  {
   "cell_type": "code",
   "execution_count": 2,
   "metadata": {},
   "outputs": [],
   "source": [
    "foresee = Foresee()"
   ]
  },
  {
   "cell_type": "markdown",
   "metadata": {},
   "source": [
    "HNL's are produced mainly via $\\text{D}^+_s$ meson decay. To start, let us have a look at the $\\text{D}^+_s$ spectrum in terms of the angle with respect to the beam axis $\\theta$ and the momentum $p$. This can be done using the function `get_spectrumplot` which requires the MC particle ID (or simply pid), the MC generator and the energy. The units on the coloraxis are pb/bin. \n",
    "\n",
    "FORESEE provides the 2D spectrum as tables for a variety of particles ($\\text{D}^+_s$, $\\eta$, ...), generators (SIBYLL, EPOSLHC, QGSJET, PYTHIA) and collision energies (14, 27 and 100 TeV). The datafiles are stored in the directory `files/hadrons`. Let us show the $\\text{D}^+_s$ spectrum here. "
   ]
  },
  {
   "cell_type": "code",
   "execution_count": 29,
   "metadata": {},
   "outputs": [
    {
     "data": {
      "image/png": "[encoded data removed]",
      "text/plain": [
       "<Figure size 576x396 with 2 Axes>"
      ]
     },
     "metadata": {
      "needs_background": "light"
     },
     "output_type": "display_data"
    }
   ],
   "source": [
    "plot=foresee.get_spectrumplot(pid=\"431\", generator=\"pythia8\", energy=\"27\")\n",
    "plot.show()"
   ]
  },
  {
   "cell_type": "markdown",
   "metadata": {},
   "source": [
    "## 2. Specifying the Model: Heavy Neutral Leptons"
   ]
  },
  {
   "cell_type": "markdown",
   "metadata": {},
   "source": [
    "The phenomenology of a right handed Heavy Neutral Lepton $\\tilde{N}$ can be described by the following Lagrangian\n",
    "\n",
    "\\begin{equation}\n",
    " \\mathcal{L}_{HNL}=i \\bar{\\tilde{N}} \\gamma^{\\mu} \\partial_{\\mu} \\tilde{N} - F_{\\alpha } \\bar{L}_{\\alpha} \\tilde{N} \\tilde{\\Phi}- \\frac{1}{2} \\bar{\\tilde{N}}^c M_N \\tilde{N} + \\rm{h.c.}\n",
    "\\end{equation}\n",
    "\n",
    "with the HNL masses $M_N$ and the Yukawa couplings to SM leptons $F_{\\alpha}$ as free parameters with $\\alpha=e,\\mu, \\tau$. For the search for HNL's at forward experiments we need to know i) the *production rate*, ii) the *lifetime* and iii) possibly the *decay branching fractions* of HNL's as function of the two sets parameters. All properties are specified in the `Model` class. We initialize it with the name of the model as argument. Optionally, we can also add the `path` to the directory where the model is stored. "
   ]
  },
  {
   "cell_type": "code",
   "execution_count": 40,
   "metadata": {},
   "outputs": [
    {
     "data": {
      "text/plain": [
       "'#for D+ 411 ($$c \\x08ar{d}$$)\\nenergy = \"14\"\\nmodelname=\"HNL\"\\n#model = Model(modelname, path=\"./\")\\nmasse=0.000511 #GeV mass of electron, in this case because we consider D+ -> e + N\\nSecToGev=1./(6.582122*pow(10.,-25.))\\ntauH=1040*10**(-15)*SecToGev #GeV; lifetime of meson\\nVH=.221 #unitless\\nMH=1.8696 #mass of D+ in GeV\\nfH=.2226 #GeV\\nGF=1.166378*10**(-5) #GeV^(-2)\\nprefactorDp=((tauH*GF**2*fH**2*VH**2)/(8*np.pi))\\nprint(prefactorDp)\\n#coupling is Ualpha'"
      ]
     },
     "execution_count": 40,
     "metadata": {},
     "output_type": "execute_result"
    }
   ],
   "source": [
    "'''#for D+ 411 (c \\bar{d})\n",
    "energy = \"14\"\n",
    "modelname=\"HNL\"\n",
    "#model = Model(modelname, path=\"./\")\n",
    "masse=0.000511 #GeV mass of electron, in this case because we consider D+ -> e + N\n",
    "SecToGev=1./(6.582122*pow(10.,-25.))\n",
    "tauH=1040*10**(-15)*SecToGev #GeV; lifetime of meson\n",
    "VH=.221 #unitless Vcd matrix element\n",
    "MH=1.8696 #mass of D+ in GeV\n",
    "fH=.2226 #GeV\n",
    "GF=1.166378*10**(-5) #GeV^(-2)\n",
    "prefactorDp=((tauH*GF**2*fH**2*VH**2)/(8*np.pi))\n",
    "print(prefactorDp)\n",
    "#coupling is Ualpha'''"
   ]
  },
  {
   "cell_type": "code",
   "execution_count": 5,
   "metadata": {},
   "outputs": [
    {
     "name": "stdout",
     "output_type": "stream",
     "text": [
      "0.3142703280466045\n"
     ]
    }
   ],
   "source": [
    "#for D+s 431 (c \\bar{s})\n",
    "energy = \"14\"\n",
    "modelname=\"HNL\"\n",
    "model = Model(modelname, path=\"./\")\n",
    "masse=0.000511 #GeV\n",
    "SecToGev=1./(6.582122*pow(10.,-25.))\n",
    "tauH=500*10**(-15)*SecToGev #GeV\n",
    "VH=0.987 #unitless Vcs CKM matrix element\n",
    "MH=1.96847 #mass of D+ in GeV\n",
    "fH=.2801 #GeV\n",
    "GF=1.166378*10**(-5) #GeV^(-2)\n",
    "prefactorDps=((tauH*GF**2*fH**2*VH**2)/(8*np.pi))\n",
    "#prefactorDps=1\n",
    "print(prefactorDps)\n",
    "#coupling is Ualpha"
   ]
  },
  {
   "cell_type": "markdown",
   "metadata": {},
   "source": [
    "**Production** Most LLPs are produced in the decay of primary particles. Here we need to specify the total branching fraction into the LLP as function of the `coupling` and the `mass`. We additionally specify the variable `nsample` which specifies how often each parent particle is decayed. \n",
    "\n",
    "For the HNL, we have the branching fraction\n",
    "\n",
    "\\begin{equation}\n",
    "    \\text{Br} \\left(H^+ \\rightarrow \\ell_{\\alpha}^{+} N \\right) = \\tau_H \\frac{G_F^2 f_H^2 M_H M_N^2}{8 \\pi} |V_H|^2 |U_{\\alpha}|^2 \\cdot \\left( 1- \\frac{M_N^2}{M_H^2} + 2 \\frac{M_{\\ell}^2}{M_H^2}+ \\frac{M_{\\ell}^2}{M_N^2} \\left( 1- \\frac{M_{\\ell}^2}{M_H^2} \\right) \\right)\\times \\sqrt{\\left(1+ \\frac{M_N^2}{M_H^2}- \\frac{M_{\\ell}^2}{M_H^2}\\right)^2 - 4 \\frac{M_N^2}{M_H^2}}\n",
    "\\end{equation}\n",
    "\n",
    "There is also the option for 3-body decays $p_0 \\to p_1 p_2 p_3$ with $p_3$ being the LLP. This can be added using the function `add_production_3bodydecay()`. It requires to provide `br` which is the differential branching fraction $d\\text{BR}/(dq \\ d\\cos\\vartheta)$ where $q^2=(p_2+p_3)^2$ and $\\vartheta$ is the angle between $p_3$ in the restframe of $p_2+p_3$ and the direction of $p_2+p_3$ in the restframe of $p_0$. We do not have an example for this in the dark photon case. "
   ]
  },
  {
   "cell_type": "code",
   "execution_count": 6,
   "metadata": {},
   "outputs": [
    {
     "data": {
      "text/plain": [
       "'model.add_production_2bodydecay(\\n    pid0 = \"411\",\\n    pid1 = \"-11\",\\n    br=str(prefactorDp)+\"*coupling**2*mass**2*self.masses(\\'411\\')*(1.-(mass/self.masses(\\'411\\'))**2 + 2.* (0.000511/self.masses(\\'411\\'))**2 + (0.000511/mass)**2*(1.-(0.000511/self.masses(\\'411\\'))**2)) * np.sqrt((1.+(mass/self.masses(\\'411\\'))**2 - (0.000511/self.masses(\\'411\\'))**2)**2-4.*(mass/self.masses(\\'411\\'))**2)\",\\n    generator = \"Pythia8\",\\n    energy = energy,\\n    nsample = 10\\n)'"
      ]
     },
     "execution_count": 6,
     "metadata": {},
     "output_type": "execute_result"
    }
   ],
   "source": [
    "#for D+\n",
    "'''model.add_production_2bodydecay(\n",
    "    pid0 = \"411\",\n",
    "    pid1 = \"-11\",\n",
    "    br=str(prefactorDp)+\"*coupling**2*mass**2*self.masses('411')*(1.-(mass/self.masses('411'))**2 + 2.* (0.000511/self.masses('411'))**2 + (0.000511/mass)**2*(1.-(0.000511/self.masses('411'))**2)) * np.sqrt((1.+(mass/self.masses('411'))**2 - (0.000511/self.masses('411'))**2)**2-4.*(mass/self.masses('411'))**2)\",\n",
    "    generator = \"Pythia8\",\n",
    "    energy = energy,\n",
    "    nsample = 10\n",
    ")'''"
   ]
  },
  {
   "cell_type": "code",
   "execution_count": 7,
   "metadata": {},
   "outputs": [],
   "source": [
    "#for D+s\n",
    "model.add_production_2bodydecay(\n",
    "    pid0 = \"431\",\n",
    "    pid1 = \"-11\",\n",
    "    br=str(prefactorDps)+\"*coupling**2*mass**2*self.masses('431')*(1.-(mass/self.masses('431'))**2 + 2.* (0.000511/self.masses('431'))**2 + (0.000511/mass)**2*(1.-(0.000511/self.masses('431'))**2)) * np.sqrt((1.+(mass/self.masses('431'))**2 - (0.000511/self.masses('431'))**2)**2-4.*(mass/self.masses('431'))**2)\",\n",
    "    generator = \"Pythia8\",\n",
    "    energy = energy,\n",
    "    nsample = 10\n",
    ")"
   ]
  },
  {
   "cell_type": "markdown",
   "metadata": {},
   "source": [
    "We can also produce the dark photon via it's resonant mixing with the SM vector mesons, in particular the $\\omega$, $\\rho$ and $\\phi$ mesons. Following [arXiv:1810.01879](https://arxiv.org/pdf/1810.01879.pdf), we can write \n",
    "\n",
    "\\begin{equation}\n",
    "    \\sigma(A') = \\theta_V^2 \\  \\sigma(V)\n",
    "    \\quad\\quad\\text{with}\\quad\\quad\n",
    "    \\theta_V = \\frac{\\epsilon e}{g_V}  \\frac{m_V^2}{m_{A'}^2 - m_V^2 + i m_V \\Gamma_V}\n",
    "\\end{equation}\n",
    "\n",
    "Here $g_\\omega = 17$, $g_\\rho=5$ and $g_\\phi=-12.88$. We can specify this production mode using `model.add_production_mixing()`. In the following, we focus on the $\\rho$, which provides the leading contribution. "
   ]
  },
  {
   "cell_type": "code",
   "execution_count": 8,
   "metadata": {},
   "outputs": [
    {
     "data": {
      "text/plain": [
       "'model.add_production_mixing(\\n    pid = \"113\",\\n    mixing = \"coupling * 0.3/5. * 0.77545**2/abs(mass**2-0.77545**2+0.77545*0.147*1j)\",\\n    generator = \"EPOSLHC\",\\n    energy = energy,\\n)'"
      ]
     },
     "execution_count": 8,
     "metadata": {},
     "output_type": "execute_result"
    }
   ],
   "source": [
    "'''model.add_production_mixing(\n",
    "    pid = \"113\",\n",
    "    mixing = \"coupling * 0.3/5. * 0.77545**2/abs(mass**2-0.77545**2+0.77545*0.147*1j)\",\n",
    "    generator = \"EPOSLHC\",\n",
    "    energy = energy,\n",
    ")'''"
   ]
  },
  {
   "cell_type": "markdown",
   "metadata": {},
   "source": [
    "Particles can also be produced directly in collisions. In the case of dark photons, this proceeds through Bremsstrahlung at lower masses or through Drell-Yan production at higher masses. The spectra for LLPs at some reference coupling need to be provided for a fixed set of masses in the `model/direct` directory. We also provide an option to implement additional conditions in terms of the momentum `p`, in this case the requirement that pT of dark photon produced in Bremssteahlung is smaller than 1 GeV."
   ]
  },
  {
   "cell_type": "code",
   "execution_count": 9,
   "metadata": {},
   "outputs": [
    {
     "data": {
      "text/plain": [
       "'model.add_production_direct(\\n    label = \"DY\",\\n    energy = energy,\\n    coupling_ref=1,\\n    masses = [\\n        1.00, 1.122, 1.258, 1.412, 1.501, 1.541, 1.549, 1.584, 1.778, 1.801, \\n        1.821, 1.841, 1.844, 1.995, 2.238, 2.511, 2.818, 3.162, 3.548, 3.981, \\n        4.466, 4.601, 4.666, 4.701, 4.731, 4.901, 5.011, 5.012, 5.101, 5.171, \\n        5.178, 5.623, 6.309, 7.079, 7.943, 8.912, 10.01, 11.22, 12.58, 14.12, \\n        15.84, 17.78, 19.95, 22.38, 25.11, 28.18, 31.62, 35.48, 39.81, 44.66, \\n        50.11, 56.23, 63.09, 70.79, 79.43, 89.12, 100.01\\n    ]\\n)'"
      ]
     },
     "execution_count": 9,
     "metadata": {},
     "output_type": "execute_result"
    }
   ],
   "source": [
    "'''masses_brem = [ \n",
    "    0.01  ,  0.0126,  0.0158,  0.02  ,  0.0251,  0.0316,  0.0398,\n",
    "    0.0501,  0.0631,  0.0794,  0.1   ,  0.1122,  0.1259,  0.1413,\n",
    "    0.1585,  0.1778,  0.1995,  0.2239,  0.2512,  0.2818,  0.3162,\n",
    "    0.3548,  0.3981,  0.4467,  0.5012,  0.5623,  0.6026,  0.631 ,\n",
    "    0.6457,  0.6607,  0.6761,  0.6918,  0.7079,  0.7244,  0.7413,\n",
    "    0.7586,  0.7762,  0.7943,  0.8128,  0.8318,  0.8511,  0.871 ,\n",
    "    0.8913,  0.912 ,  0.9333,  0.955 ,  0.9772,  1.    ,  1.122 ,\n",
    "    1.2589,  1.4125,  1.5849,  1.7783,  1.9953,  2.2387,  2.5119,\n",
    "    2.8184,  3.1623,  3.9811,  5.0119,  6.3096,  7.9433, 10.    \n",
    "]'''\n",
    "\n",
    "'''model.add_production_direct(\n",
    "    label = \"Brem\",\n",
    "    energy = energy,\n",
    "    condition = \"p.pt<1\",\n",
    "    coupling_ref=1,\n",
    "    masses = masses_brem,\n",
    ")\n",
    "\n",
    "masses_dy = [ \n",
    "    1.5849,  1.7783,  1.9953,  2.2387,  2.5119, 2.8184,  3.1623,  3.9811,  5.0119,  6.3096,  7.9433, 10.    \n",
    "]\n",
    "\n",
    "model.add_production_direct(\n",
    "    label = \"DY\",\n",
    "    energy = energy,\n",
    "    coupling_ref=1,\n",
    "    masses = masses_dy,\n",
    ")'''\n",
    "'''model.add_production_direct(\n",
    "    label = \"DY\",\n",
    "    energy = energy,\n",
    "    coupling_ref=1,\n",
    "    masses = [\n",
    "        1.00, 1.122, 1.258, 1.412, 1.501, 1.541, 1.549, 1.584, 1.778, 1.801, \n",
    "        1.821, 1.841, 1.844, 1.995, 2.238, 2.511, 2.818, 3.162, 3.548, 3.981, \n",
    "        4.466, 4.601, 4.666, 4.701, 4.731, 4.901, 5.011, 5.012, 5.101, 5.171, \n",
    "        5.178, 5.623, 6.309, 7.079, 7.943, 8.912, 10.01, 11.22, 12.58, 14.12, \n",
    "        15.84, 17.78, 19.95, 22.38, 25.11, 28.18, 31.62, 35.48, 39.81, 44.66, \n",
    "        50.11, 56.23, 63.09, 70.79, 79.43, 89.12, 100.01\n",
    "    ]\n",
    ")'''"
   ]
  },
  {
   "cell_type": "markdown",
   "metadata": {},
   "source": [
    "**Lifetime:** For most models the lifetime can be written as $\\ c\\tau(m,g)\\  =\\  c\\tau(m,g_*) \\ \\cdot\\  g_*^2 \\ / \\ g^{2}$ where $m$ is the mass, $g$ is the coupling and $g_*$ is some reference coupling. In this case, we can provide a table of masses $m$ and lifetimes $c\\tau(m,g_*)$ at a reference coupling $g_*$ using `model.set_ctau_1d`. Alternatively, one can also provide a table of masses $m$, couplings $g$ and lifetimes $c\\tau(m,g)$ via `model.set_ctau_2d()`. "
   ]
  },
  {
   "cell_type": "code",
   "execution_count": 10,
   "metadata": {},
   "outputs": [],
   "source": [
    "model.set_ctau_1d(\n",
    "    filename=\"model/ctau.txt\", \n",
    "    coupling_ref=10**-3.5\n",
    ")"
   ]
  },
  {
   "cell_type": "markdown",
   "metadata": {},
   "source": [
    "**Branching Fractions:** For most models, the branching fractions into particular decay channels are independent of the overall couplings. In this case, we can provide a set of tables of masses $m$ and branching fractions $BR(m)$ using `model.set_br_1d`. Alternatively, we can also provide table of masses $m$, couplings $g$ and branching fraction $BR(m,g)$ via `model.set_br_2d()`. In both cases, we need to specify a list of decay modes and a list of filenames with the corresponding data tables. "
   ]
  },
  {
   "cell_type": "code",
   "execution_count": 11,
   "metadata": {},
   "outputs": [],
   "source": [
    "model.set_br_1d(\n",
    "    modes=[\"e_mu\", \"e_tau\"],\n",
    "    finalstates=[[11,13], [11,15]],\n",
    "    filenames=[\"model/br/br_elecmuon.txt\",\"model/br/br_electau.txt\"]\n",
    ")"
   ]
  },
  {
   "cell_type": "markdown",
   "metadata": {},
   "source": [
    "## 3. Generate LLP Spectra"
   ]
  },
  {
   "cell_type": "markdown",
   "metadata": {},
   "source": [
    "After we have specified the model, let us generate the LLP spectra. We first set the model we just created. "
   ]
  },
  {
   "cell_type": "code",
   "execution_count": 12,
   "metadata": {},
   "outputs": [],
   "source": [
    "foresee.set_model(model=model)"
   ]
  },
  {
   "cell_type": "markdown",
   "metadata": {},
   "source": [
    "Let's first look at one benchmark scenario with $M_{N}=1$ GeV and $\\epsilon=10^{-3.5}$ using the function `foresee.get_llp_spectrum()`. By default, the result are saved in the `model/LLP_spectra` directory. However, here set `save_file=False` since we don't want to save the results but set `do_plot=True` to plot them. "
   ]
  },
  {
   "cell_type": "code",
   "execution_count": 13,
   "metadata": {},
   "outputs": [
    {
     "data": {
      "image/png": "[encoded data removed]",
      "text/plain": [
       "<Figure size 576x396 with 2 Axes>"
      ]
     },
     "metadata": {
      "needs_background": "light"
     },
     "output_type": "display_data"
    }
   ],
   "source": [
    "plot = foresee.get_llp_spectrum(1, coupling=10**-3.5, do_plot=True, save_file=False)\n",
    "plot.show()"
   ]
  },
  {
   "cell_type": "markdown",
   "metadata": {},
   "source": [
    "We can now produce a set of LLP spectra for various masses  (chosen to be equally spaced in log(mass)) and unit coupling and save them. "
   ]
  },
  {
   "cell_type": "code",
   "execution_count": 14,
   "metadata": {},
   "outputs": [
    {
     "data": {
      "text/plain": [
       "'for mass in masses:\\n    foresee.get_llp_spectrum(mass=mass,coupling=1)'"
      ]
     },
     "execution_count": 14,
     "metadata": {},
     "output_type": "execute_result"
    }
   ],
   "source": [
    "masses = [ \n",
    "    0.01  ,  0.0126,  0.0158,  0.02  ,  0.0251,  0.0316,  0.0398,\n",
    "    0.0501,  0.0631,  0.0794,  0.1   ,  0.1122,  0.1259,  0.1413,\n",
    "    0.1585,  0.1778,  0.1995,  0.2239,  0.2512,  0.2818,  0.3162,\n",
    "    0.3548,  0.3981,  0.4467,  0.5012,  0.5623,  0.6026,  0.631 ,\n",
    "    0.6457,  0.6607,  0.6761,  0.6918,  0.7079,  0.7244,  0.7413,\n",
    "    0.7586,  0.7762,  0.7943,  0.8128,  0.8318,  0.8511,  0.871 ,\n",
    "    0.8913,  0.912 ,  0.9333,  0.955 ,  0.9772,  1.    ,  1.122 ,\n",
    "    1.2589,  1.4125,  1.5849,  1.7783,  1.9953,  2.2387,  2.5119,\n",
    "    2.8184,  3.1623,  3.9811,  5.0119,  6.3096,  7.9433, 10.    \n",
    "]\n",
    "\n",
    "'''for mass in masses:\n",
    "    foresee.get_llp_spectrum(mass=mass,coupling=1)'''"
   ]
  },
  {
   "cell_type": "markdown",
   "metadata": {},
   "source": [
    "## 4. Count Event Rate in Detector"
   ]
  },
  {
   "cell_type": "markdown",
   "metadata": {},
   "source": [
    "Before counting the number of decays within the detector volume, let us specify the detector geometry. For this we need\n",
    "\n",
    "- the `distance` from the IP in meter (default: 480)\n",
    "- the `length` in meter (default: 5)\n",
    "- the `luminosity` in units of fb^-1 (default: 3000)\n",
    "- the `selection` depending in `x.x` and `x.y` (default: `np.sqrt(x.x**2 + x.y**2)< 1`)\n",
    "- the decay `channels` which the detector can see (default: None, meaning all of them)\n",
    "\n",
    "The default correspond to the FASER2 detector."
   ]
  },
  {
   "cell_type": "code",
   "execution_count": 15,
   "metadata": {},
   "outputs": [],
   "source": [
    "distance, selection, length, luminosity, channels = 480, \"np.sqrt(x.x**2 + x.y**2)< 1\", 5, 3000, None\n",
    "foresee.set_detector(distance=distance, selection=selection, length=length, luminosity=luminosity, channels=channels)"
   ]
  },
  {
   "cell_type": "markdown",
   "metadata": {},
   "source": [
    "Let us look for one specific HNL mass $M_{N}=1$ GeV at how many particle decay inside the decay volume. This can be done using `get_events()` for which we need to specify again the mass and filename. Additionally, we can specify \n",
    "\n",
    "- the `couplings` for which we evaluate the event rate as numpy array (deault `np.logspace(-8,-3,51)`)\n",
    "- the `preselectioncuts` when reading the LLP spectra in terms of momentum `p` and angle `th` (default: `th<0.01 and p>100`)\n",
    "- the number `nsample` describing how many randomly choosen values of $\\phi_{LLP}$ should sampled (default 1). This is only relevant for detectors that are not cylyndrical or not centered around the beam axis. \n",
    "- the production `modes` which should be considered\n",
    "- the `energy` of the experiments"
   ]
  },
  {
   "cell_type": "code",
   "execution_count": 16,
   "metadata": {},
   "outputs": [
    {
     "name": "stdout",
     "output_type": "stream",
     "text": [
      "epsilon = 1.000e-04 : nsignal = 4.093e-02\n",
      "epsilon = 1.151e-04 : nsignal = 7.194e-02\n",
      "epsilon = 1.326e-04 : nsignal = 1.264e-01\n",
      "epsilon = 1.526e-04 : nsignal = 2.222e-01\n",
      "epsilon = 1.758e-04 : nsignal = 3.905e-01\n",
      "epsilon = 2.024e-04 : nsignal = 6.863e-01\n",
      "epsilon = 2.330e-04 : nsignal = 1.206e+00\n",
      "epsilon = 2.683e-04 : nsignal = 2.120e+00\n",
      "epsilon = 3.089e-04 : nsignal = 3.725e+00\n",
      "epsilon = 3.556e-04 : nsignal = 6.547e+00\n",
      "epsilon = 4.095e-04 : nsignal = 1.150e+01\n",
      "epsilon = 4.715e-04 : nsignal = 2.022e+01\n",
      "epsilon = 5.429e-04 : nsignal = 3.553e+01\n",
      "epsilon = 6.251e-04 : nsignal = 6.242e+01\n",
      "epsilon = 7.197e-04 : nsignal = 1.097e+02\n",
      "epsilon = 8.286e-04 : nsignal = 1.927e+02\n",
      "epsilon = 9.541e-04 : nsignal = 3.384e+02\n",
      "epsilon = 1.099e-03 : nsignal = 5.943e+02\n",
      "epsilon = 1.265e-03 : nsignal = 1.044e+03\n",
      "epsilon = 1.456e-03 : nsignal = 1.832e+03\n",
      "epsilon = 1.677e-03 : nsignal = 3.213e+03\n",
      "epsilon = 1.931e-03 : nsignal = 5.635e+03\n",
      "epsilon = 2.223e-03 : nsignal = 9.873e+03\n",
      "epsilon = 2.560e-03 : nsignal = 1.728e+04\n",
      "epsilon = 2.947e-03 : nsignal = 3.021e+04\n",
      "epsilon = 3.393e-03 : nsignal = 5.273e+04\n",
      "epsilon = 3.907e-03 : nsignal = 9.181e+04\n",
      "epsilon = 4.498e-03 : nsignal = 1.594e+05\n",
      "epsilon = 5.179e-03 : nsignal = 2.756e+05\n",
      "epsilon = 5.964e-03 : nsignal = 4.742e+05\n",
      "epsilon = 6.866e-03 : nsignal = 8.103e+05\n",
      "epsilon = 7.906e-03 : nsignal = 1.373e+06\n",
      "epsilon = 9.103e-03 : nsignal = 2.301e+06\n",
      "epsilon = 1.048e-02 : nsignal = 3.801e+06\n",
      "epsilon = 1.207e-02 : nsignal = 6.169e+06\n",
      "epsilon = 1.389e-02 : nsignal = 9.796e+06\n",
      "epsilon = 1.600e-02 : nsignal = 1.515e+07\n",
      "epsilon = 1.842e-02 : nsignal = 2.271e+07\n",
      "epsilon = 2.121e-02 : nsignal = 3.284e+07\n",
      "epsilon = 2.442e-02 : nsignal = 4.564e+07\n",
      "epsilon = 2.812e-02 : nsignal = 6.072e+07\n",
      "epsilon = 3.237e-02 : nsignal = 7.703e+07\n",
      "epsilon = 3.728e-02 : nsignal = 9.276e+07\n",
      "epsilon = 4.292e-02 : nsignal = 1.055e+08\n",
      "epsilon = 4.942e-02 : nsignal = 1.128e+08\n",
      "epsilon = 5.690e-02 : nsignal = 1.126e+08\n",
      "epsilon = 6.551e-02 : nsignal = 1.042e+08\n",
      "epsilon = 7.543e-02 : nsignal = 8.857e+07\n",
      "epsilon = 8.685e-02 : nsignal = 6.839e+07\n",
      "epsilon = 1.000e-01 : nsignal = 4.716e+07\n"
     ]
    }
   ],
   "source": [
    "mass=1.\n",
    "output = foresee.get_events(mass=mass, energy=energy, couplings=np.logspace(-4,-1,50))\n",
    "coups, ctaus, nsigs, energies, weights, _ = output\n",
    "for coup,ctau,nsig in zip(coups, ctaus, nsigs):\n",
    "    print (\"epsilon =\", '{:5.3e}'.format(coup), \": nsignal =\", '{:5.3e}'.format(nsig))\n"
   ]
  },
  {
   "cell_type": "markdown",
   "metadata": {},
   "source": [
    "The previous function also outputs the energy distribution of the HNL particles which decay inside the detector. Let's have a look at them."
   ]
  },
  {
   "cell_type": "code",
   "execution_count": 38,
   "metadata": {},
   "outputs": [
    {
     "data": {
      "image/png": "[encoded data removed]",
      "text/plain": [
       "<Figure size 504x360 with 1 Axes>"
      ]
     },
     "metadata": {
      "needs_background": "light"
     },
     "output_type": "display_data"
    }
   ],
   "source": [
    "fig = plt.figure(figsize=(7,5))\n",
    "ax = plt.subplot(1,1,1)\n",
    "ens=[]\n",
    "for coup,en,weight in zip(coups,energies,weights):\n",
    "    if sum(weight)<9.9*10**7 : continue\n",
    "    ens.append(en)\n",
    "    ax.hist(en, weights=weight, bins=np.logspace(2,4, 20), histtype='step', label=r\"$\\epsilon=$\"+str(coup)) \n",
    "    ax.set_xscale(\"log\")\n",
    "    ax.set_yscale(\"log\")\n",
    "    ax.set_ylim(10**-1,9*10**7) \n",
    "    ax.set_xlabel(\"E(N) [GeV]\") \n",
    "    ax.set_ylabel(\"Number of Events per bin\") \n",
    "    ax.legend(frameon=False, labelspacing=0)\n",
    "plt.tight_layout()\n",
    "plt.show()"
   ]
  },
  {
   "cell_type": "markdown",
   "metadata": {},
   "source": [
    "FORESEE also includes a function `write_events()` which obtains an unweighted sample of LLP decay events and saves them as a HEPMC file. For this function, we need to specify\n",
    "- the `mass` and `coupling` of the LLP\n",
    "- the collision `energy`\n",
    "- the number of events `numberevent` that should be samples (optional, default=10)\n",
    "- the `filename` of the output file (optional, default=`model/events/<mass>_<coupling>.hepmc`)\n",
    "- the z-position (in meter) of the beginning of the decay volume (optional, default=0)\n",
    "- a random `seed` (optional, default=None)\n",
    "- the `decaychannels` for which the event should bbe written to file (optional, default=None meaning that all channels are written to file)\n",
    "\n",
    "At the moment, FORESEE only supports 2-body LLP decays. For all other cases, including those where no final state information was specified when initiating the `Model`, the LLP will not be decayed. "
   ]
  },
  {
   "cell_type": "code",
   "execution_count": 18,
   "metadata": {},
   "outputs": [
    {
     "name": "stdout",
     "output_type": "stream",
     "text": [
      "0.132211\n"
     ]
    }
   ],
   "source": [
    "foresee.write_events(filename=\"model/events/test.hepmc\", mass=1., coupling=1.000e-05, \n",
    "    energy=\"14\", numberevent=10, zfront=0, decaychannels=[\"e_mu\"])"
   ]
  },
  {
   "cell_type": "markdown",
   "metadata": {},
   "source": [
    "Let us have a look at a the output:"
   ]
  },
  {
   "cell_type": "code",
   "execution_count": 19,
   "metadata": {},
   "outputs": [
    {
     "name": "stdout",
     "output_type": "stream",
     "text": [
      "HepMC::Version 2.06.09\n",
      "HepMC::IO_GenEvent-START_EVENT_LISTING\n",
      "E 0 -1 -1. -1. -1. 0 -1 1 1 0 0 0\n",
      "U GEV MM\n",
      "C 5.4058063802974545e-08 0.\n",
      "F 0 0 0 0 0 0 0 0 0\n",
      "V -1 0 0.9256933707 243.9973216502 1298.7824043867 555867389291.2937 1 2 0\n",
      "P 1 32 0.0011303254 0.297934901 586.1078278122 586.1087566222 1.0 2 0 0 -1 0\n",
      "P 2 11 0.046276992 -0.3641656003 182.2163958194 182.2167655947 0.0005109986 1 0 0 0 0\n",
      "P 3 13 -0.0451466667 0.6621005014 403.8914320188 403.8919910534 0.1056579999 1 0 0 0 0\n",
      "E 1 -1 -1. -1. -1. 0 -1 1 1 0 0 0\n",
      "U GEV MM\n",
      "C 5.4058063802974545e-08 0.\n",
      "F 0 0 0 0 0 0 0 0 0\n",
      "V -1 0 -158.0887353608 -873.2561416332 2069.4407137155 916240766483.36 1 2 0\n",
      "P 1 32 -0.0479911495 -0.2650952072 145.7138958416 145.7175762218 1.0 2 0 0 -1 0\n",
      "P 2 11 0.4538868645 -0.2451301483 64.8656571073 64.8677082553 0.0005109977 1 0 0 0 0\n",
      "P 3 13 -0.501878014 -0.0199650589 80.8482387343 80.8498679665 0.105658 1 0 0 0 0\n",
      "E 2 -1 -1. -1. -1. 0 -1 1 1 0 0 0\n",
      "U GEV MM\n",
      "C 5.4058063802974545e-08 0.\n",
      "F 0 0 0 0 0 0 0 0 0\n",
      "V -1 0 484.7881044758 501.4078818988 3843.698606147 1637666114702.2664 1 2 0\n",
      "P 1 32 0.6529221742 0.675306018 646.4730057494 646.4744616056 0.9999999999 2 0 0 -1 0\n",
      "P 2 11 0.3438958323 0.4853439882 584.583608804 584.5839114325 0.0005109986 1 0 0 0 0\n",
      "P 3 13 0.3090263419 0.1899620298 61.8893969571 61.8905501848 0.105658 1 0 0 0 0\n",
      "E 3 -1 -1. -1. -1. 0 -1 1 1 0 0 0\n",
      "U GEV MM\n",
      "C 5.4058063802974545e-08 0.\n",
      "F 0 0 0 0 0 0 0 0 0\n",
      "V -1 0 110.8348440389 -391.24112112 4745.9654862221 2016960628443.4526 1 2 0\n",
      "P 1 32 0.1076777483 -0.3800967405 466.327239028 466.3284785723 1.0 2 0 0 -1 0\n",
      "P 2 11 0.4547200285 -0.1766794911 372.3100867233 372.3104063307 0.000511084 1 0 0 0 0\n",
      "P 3 13 -0.3470422803 -0.2034172494 94.0171523046 94.0180722414 0.105658 1 0 0 0 0\n",
      "E 4 -1 -1. -1. -1. 0 -1 1 1 0 0 0\n",
      "U GEV MM\n",
      "C 5.4058063802974545e-08 0.\n",
      "F 0 0 0 0 0 0 0 0 0\n",
      "V -1 0 -86.4959215758 -20.5322813858 769.6650121184 326599300780.58026 1 2 0\n",
      "P 1 32 -0.1598250447 -0.0379390465 886.932229664 886.9328086164 1.0000000001 2 0 0 -1 0\n",
      "P 2 11 -0.0143543393 0.472188264 406.9406238463 406.9408980484 0.0005109416 1 0 0 0 0\n",
      "P 3 13 -0.1454707054 -0.5101273105 479.9916058665 479.9919106167 0.105658 1 0 0 0 0\n",
      "E 5 -1 -1. -1. -1. 0 -1 1 1 0 0 0\n",
      "U GEV MM\n",
      "C 5.4058063802974545e-08 0.\n",
      "F 0 0 0 0 0 0 0 0 0\n",
      "V -1 0 -445.3340743335 28.3496111445 1874.5870148766 795365386965.3652 1 2 0\n",
      "P 1 32 -0.1248647402 0.0079487895 134.5844872132 134.588260457 1.0 2 0 0 -1 0\n",
      "P 2 11 -0.0407951734 -0.1846281107 5.019898562 5.0234583325 0.0005109999 1 0 0 0 0\n",
      "P 3 13 -0.0840695668 0.1925769002 129.564588651 129.5648021242 0.105658 1 0 0 0 0\n",
      "E 6 -1 -1. -1. -1. 0 -1 1 1 0 0 0\n",
      "U GEV MM\n",
      "C 5.4058063802974545e-08 0.\n",
      "F 0 0 0 0 0 0 0 0 0\n",
      "V -1 0 -131.4477827985 -595.2139697579 2040.0982677956 883767695658.1128 1 2 0\n",
      "P 1 32 -0.0293503115 -0.1329023211 107.1767180877 107.1814695949 1.0 2 0 0 -1 0\n",
      "P 2 11 0.4068250269 -0.2307346374 32.8143880638 32.8177209651 0.0005110002 1 0 0 0 0\n",
      "P 3 13 -0.4361753384 0.0978323163 74.3623300239 74.3637486299 0.105658 1 0 0 0 0\n",
      "E 7 -1 -1. -1. -1. 0 -1 1 1 0 0 0\n",
      "U GEV MM\n",
      "C 5.4058063802974545e-08 0.\n",
      "F 0 0 0 0 0 0 0 0 0\n",
      "V -1 0 -93.7984201729 -855.2112201399 4751.4827627606 2032144355320.4678 1 2 0\n",
      "P 1 32 -0.0400121026 -0.3648121044 204.7559930052 204.7587638183 1.0 2 0 0 -1 0\n",
      "P 2 11 0.1450157063 -0.0378008765 4.6971106326 4.69950072 0.0005109999 1 0 0 0 0\n",
      "P 3 13 -0.1850278088 -0.3270112279 200.0588823724 200.059263098 0.105658 1 0 0 0 0\n",
      "E 8 -1 -1. -1. -1. 0 -1 1 1 0 0 0\n",
      "U GEV MM\n",
      "C 5.4058063802974545e-08 0.\n",
      "F 0 0 0 0 0 0 0 0 0\n",
      "V -1 0 113.6153258024 -390.4427426028 1283.9702457621 557193345915.9875 1 2 0\n",
      "P 1 32 0.1103790289 -0.3793211036 466.327239028 466.3284785723 1.0 2 0 0 -1 0\n",
      "P 2 11 0.1967373063 0.1490997504 336.7218036774 336.7218941624 0.0005110555 1 0 0 0 0\n",
      "P 3 13 -0.0863582774 -0.528420854 129.6054353505 129.6065844097 0.105658 1 0 0 0 0\n",
      "E 9 -1 -1. -1. -1. 0 -1 1 1 0 0 0\n",
      "U GEV MM\n",
      "C 5.4058063802974545e-08 0.\n",
      "F 0 0 0 0 0 0 0 0 0\n",
      "V -1 0 8.6204907808 520.4229476988 1276.3245198812 563556895453.5488 1 2 0\n",
      "P 1 32 0.0019901472 0.1201460897 110.8139076207 110.8184847451 1.0 2 0 0 -1 0\n",
      "P 2 11 -0.4398237521 -0.0430230341 75.3036409577 75.3049376712 0.0005110004 1 0 0 0 0\n",
      "P 3 13 0.4418138993 0.1631691238 35.5102666628 35.5135470738 0.105658 1 0 0 0 0\n",
      "HepMC::IO_GenEvent-END_EVENT_LISTING\n",
      "\n"
     ]
    }
   ],
   "source": [
    "f = open(\"model/events/test.hepmc\", 'r')\n",
    "file_contents = f.read()\n",
    "print (file_contents)"
   ]
  },
  {
   "cell_type": "markdown",
   "metadata": {},
   "source": [
    "## 5. Parameter Scan"
   ]
  },
  {
   "cell_type": "markdown",
   "metadata": {},
   "source": [
    "In the following, we will get the LLP sensitivity reach for different detector configuraions. As an example, we show the FASER2 reach for dark photons for 3 scenarios. We just need to loop over different masses and use the previously introduced funtion `get_events`. The results will be written into a `.npy` file that we can store and plot later."
   ]
  },
  {
   "cell_type": "markdown",
   "metadata": {},
   "source": [
    "- the nominal/default setup"
   ]
  },
  {
   "cell_type": "code",
   "execution_count": 20,
   "metadata": {},
   "outputs": [
    {
     "data": {
      "text/plain": [
       "'#this part works, just long run time\\n#specify setup\\nluminosity, distance = 3000 , 480\\nsetup, selection, channels = \"default\", \"np.sqrt(x.x**2 + x.y**2)< 1\", None\\nforesee.set_detector(selection=selection, channels=channels, distance=distance, luminosity=luminosity)\\n\\n#get reach \\nlist_nevents = []    \\nfor mass in masses:\\n    couplings, _, nevents, _, _ , _ = foresee.get_events(mass=mass, energy=energy,couplings=np.logspace(-4,-1,50))\\n    list_nevents.append(nevents)  \\n    \\n#save results\\nnp.save(model.modelpath+\"model/results/\"+energy+\"TeV_\"+setup+\".npy\",[masses,couplings,list_nevents])'"
      ]
     },
     "execution_count": 20,
     "metadata": {},
     "output_type": "execute_result"
    }
   ],
   "source": [
    "'''#this part works, just long run time\n",
    "#specify setup\n",
    "luminosity, distance = 3000 , 480\n",
    "setup, selection, channels = \"default\", \"np.sqrt(x.x**2 + x.y**2)< 1\", None\n",
    "foresee.set_detector(selection=selection, channels=channels, distance=distance, luminosity=luminosity)\n",
    "\n",
    "#get reach \n",
    "list_nevents = []    \n",
    "for mass in masses:\n",
    "    couplings, _, nevents, _, _ , _ = foresee.get_events(mass=mass, energy=energy,couplings=np.logspace(-4,-1,50))\n",
    "    list_nevents.append(nevents)  \n",
    "    \n",
    "#save results\n",
    "np.save(model.modelpath+\"model/results/\"+energy+\"TeV_\"+setup+\".npy\",[masses,couplings,list_nevents])'''"
   ]
  },
  {
   "cell_type": "markdown",
   "metadata": {},
   "source": [
    "- a displaced setup, in which the detector is displaced by 1m from it's nominal position"
   ]
  },
  {
   "cell_type": "code",
   "execution_count": 21,
   "metadata": {},
   "outputs": [
    {
     "data": {
      "text/plain": [
       "'\\n#specify setup\\nluminosity, distance = 3000 , 480\\nsetup, selection, channels = \"displaced\", \"np.sqrt((x.x-1)**2 + x.y**2)< 1\", None\\nforesee.set_detector(selection=selection, channels=channels, distance=distance, luminosity=luminosity)\\n\\n#get reach \\nlist_nevents = []    \\nfor mass in masses:\\n    couplings, _, nevents, _, _ , _ = foresee.get_events(mass=mass, energy=energy,couplings=np.logspace(-4,-1,50))\\n    list_nevents.append(nevents)  \\n    \\n#save results\\nnp.save(model.modelpath+\"model/results/\"+energy+\"TeV_\"+setup+\".npy\",[masses,couplings,list_nevents])'"
      ]
     },
     "execution_count": 21,
     "metadata": {},
     "output_type": "execute_result"
    }
   ],
   "source": [
    "#this part works, just long run time\n",
    "'''\n",
    "#specify setup\n",
    "luminosity, distance = 3000 , 480\n",
    "setup, selection, channels = \"displaced\", \"np.sqrt((x.x-1)**2 + x.y**2)< 1\", None\n",
    "foresee.set_detector(selection=selection, channels=channels, distance=distance, luminosity=luminosity)\n",
    "\n",
    "#get reach \n",
    "list_nevents = []    \n",
    "for mass in masses:\n",
    "    couplings, _, nevents, _, _ , _ = foresee.get_events(mass=mass, energy=energy,couplings=np.logspace(-4,-1,50))\n",
    "    list_nevents.append(nevents)  \n",
    "    \n",
    "#save results\n",
    "np.save(model.modelpath+\"model/results/\"+energy+\"TeV_\"+setup+\".npy\",[masses,couplings,list_nevents])'''"
   ]
  },
  {
   "cell_type": "markdown",
   "metadata": {},
   "source": [
    "- a search that only considered dark photon decays into electrons "
   ]
  },
  {
   "cell_type": "code",
   "execution_count": 22,
   "metadata": {},
   "outputs": [
    {
     "data": {
      "text/plain": [
       "'\\n#specify setup\\nluminosity, distance = 3000 , 480\\nsetup, selection, channels = \"e_mu\", \"np.sqrt(x.x**2 + x.y**2)< 1\", [\"e_mu\"]\\nforesee.set_detector(selection=selection, channels=channels, distance=distance, luminosity=luminosity)\\n\\n#get reach \\nlist_nevents = []    \\nfor mass in masses:\\n    couplings, _, nevents, _, _ , _ = foresee.get_events(mass=mass, energy=energy,couplings=np.logspace(-4,-1,50))\\n    list_nevents.append(nevents)  \\n    \\n#save results\\nnp.save(model.modelpath+\"model/results/\"+energy+\"TeV_\"+setup+\".npy\",[masses,couplings,list_nevents])'"
      ]
     },
     "execution_count": 22,
     "metadata": {},
     "output_type": "execute_result"
    }
   ],
   "source": [
    "#this part works, just long run time\n",
    "'''\n",
    "#specify setup\n",
    "luminosity, distance = 3000 , 480\n",
    "setup, selection, channels = \"e_mu\", \"np.sqrt(x.x**2 + x.y**2)< 1\", [\"e_mu\"]\n",
    "foresee.set_detector(selection=selection, channels=channels, distance=distance, luminosity=luminosity)\n",
    "\n",
    "#get reach \n",
    "list_nevents = []    \n",
    "for mass in masses:\n",
    "    couplings, _, nevents, _, _ , _ = foresee.get_events(mass=mass, energy=energy,couplings=np.logspace(-4,-1,50))\n",
    "    list_nevents.append(nevents)  \n",
    "    \n",
    "#save results\n",
    "np.save(model.modelpath+\"model/results/\"+energy+\"TeV_\"+setup+\".npy\",[masses,couplings,list_nevents])'''"
   ]
  },
  {
   "cell_type": "markdown",
   "metadata": {},
   "source": [
    "## 6. Plot the Results"
   ]
  },
  {
   "cell_type": "markdown",
   "metadata": {},
   "source": [
    "Now let's plot the results. We first specify all detector setups for which we want to show result (filename in model/results directory, label, color, linestyle, opacity alpha for filled contours, required number of events)."
   ]
  },
  {
   "cell_type": "code",
   "execution_count": 23,
   "metadata": {},
   "outputs": [
    {
     "data": {
      "text/plain": [
       "'[\"14TeV_displaced.npy\",  \"displaced\", \"orange\",  \"solid\", 0., 3],\\n    [\"14TeV_e_mu.npy\",   \"e_mu\" , \"magenta\", \"solid\", 0., 3],'"
      ]
     },
     "execution_count": 23,
     "metadata": {},
     "output_type": "execute_result"
    }
   ],
   "source": [
    "setups = [\n",
    "    [\"14TeV_default.npy\",    \"default\"  , \"red\",     \"solid\", 0., 3],\n",
    "]\n",
    "'''[\"14TeV_displaced.npy\",  \"displaced\", \"orange\",  \"solid\", 0., 3],\n",
    "    [\"14TeV_e_mu.npy\",   \"e_mu\" , \"magenta\", \"solid\", 0., 3],'''"
   ]
  },
  {
   "cell_type": "markdown",
   "metadata": {},
   "source": [
    "Then we specify all the existing bounds (filename in model/bounds directory, label, label position x, label position y, label rotation)"
   ]
  },
  {
   "cell_type": "markdown",
   "metadata": {},
   "source": [
    "We then specify other projected sensitivitities (filename in model/bounds directory, color, label, label position x, label position y, label rotation)"
   ]
  },
  {
   "cell_type": "code",
   "execution_count": 24,
   "metadata": {},
   "outputs": [],
   "source": [
    "bounds = [ \n",
    "    [\"bounds_BBN_el.txt\",  \"BBN\"  , 3*10**-1    , 3*10**-5        , -40  ],\n",
    "    [\"bounds_el.txt\",None,  0.220, 0.9*10**-4, 0  ],\n",
    "    ]\n",
    "\n",
    "'''[\"bounds_LHCb_el.txt\",  \"LHCb\"  , 0    , 0         , 0  ]\n",
    "    [\"bounds_el.txt\", None,  0.220, 0.9*10**-4, 0  ],\n",
    "'''\n",
    "\n",
    "#this one doesnt even show up\n",
    "#[\"bounds_LHCb_el.txt\",  None  , 0    , 0         , 0  ]\n",
    "\n",
    "\n",
    "projections = [\n",
    "\n",
    "\n",
    "\n",
    "\n",
    "    [\"limits_SHiP_el.txt\",           \"orange\",  \"SHiP\"    , 3, 10**-4, 0  ],\n",
    "    [\"limits_NA62_el.txt\",           \"blue\",    \"NA62\"    ,1, 0.0002 , 0  ],\n",
    "    [\"limits_DUNE_el.txt\",           \"magenta\",    \"DUNE\"    ,0.6, 0.00009 , 0  ],\n",
    "    ['limits_CODEX_el.txt',           \"purple\",    \"CODEX\"    ,2*10**-1, 0.0003, 0  ],\n",
    "    [\"limits_MATHUSLA_el.txt\",           \"forestgreen\",  \"MATHUSLA\"    , 0.3, 0.0001 , 0  ]\n",
    "\n",
    "\n",
    "\n",
    "]\n",
    "\n",
    "\n",
    "\n",
    "\n"
   ]
  },
  {
   "cell_type": "markdown",
   "metadata": {},
   "source": [
    "Finally, we can plot everything using `foresee.plot_reach()`. It returns a matplotlib instance, to which we can add further lines and which we can show or save. Below, we add the dark matter relict target line for a specific benchmark."
   ]
  },
  {
   "cell_type": "code",
   "execution_count": 25,
   "metadata": {},
   "outputs": [
    {
     "data": {
      "image/png": "[encoded data removed]",
      "text/plain": [
       "<Figure size 576x432 with 1 Axes>"
      ]
     },
     "metadata": {
      "needs_background": "light"
     },
     "output_type": "display_data"
    }
   ],
   "source": [
    "import pandas as pd\n",
    "df_ref=pd.read_csv('/Users/alechewitt/Desktop/Jonathan_research/Git/FORESEE_HNL/Models/HNL/model/reachref.csv')\n",
    "plot = foresee.plot_reach(\n",
    "    setups=setups,\n",
    "    bounds=bounds,\n",
    "    projections=projections,\n",
    "    title=\"HNL\",\n",
    "    xlims = [10**-1,10], \n",
    "    ylims=[10**-5,10**-2],\n",
    "    xlabel=r\"HNL mass $M_{N}$ [GeV]\", \n",
    "    ylabel=r\"Kinetic Mixing $|U_{eN}|$\",\n",
    "    legendloc=(1,0.68),\n",
    "    figsize=(8,6),\n",
    ")\n",
    "refx=df_ref.iloc[:,0].tolist()\n",
    "refy=df_ref.iloc[:,1].tolist()\n",
    "#digitized values from bounds on felix paper\n",
    "UeN=[0.000105657,\n",
    "0.000166075,\n",
    "0.000265000,\n",
    "0.000374817,\n",
    "0.000429368,\n",
    "0.000905614,\n",
    "0.00106895,\n",
    "0.000859359,\n",
    "0.000594447,\n",
    ".000407951,\n",
    ".000313497,\n",
    ".000351086,\n",
    ".000608800,\n",
    ".00139489,\n",
    ".00336928,\n",
    ".00653970,\n",
    ".00584161,\n",
    ".00649316,\n",
    ".00533902,\n",
    ".00374895,\n",
    ".00366726,\n",
    ".00372535,]\n",
    "MN=[0.400177,\n",
    "0.402906,\n",
    "0.399575,\n",
    "0.399349,\n",
    "0.453839,\n",
    "0.488770,\n",
    "0.488638,\n",
    "0.599131,\n",
    "0.956599,\n",
    "1.20004,\n",
    "1.57479,\n",
    "1.76296,\n",
    "2.04795,\n",
    "2.04517,\n",
    "2.08892,\n",
    "1.99439,\n",
    "2.21675,\n",
    "2.53841,\n",
    "2.97469,\n",
    "4.50532,\n",
    "6.42077,\n",
    "9.50142]\n",
    "#plot.plot(MN,UeN, color=\"k\", lw=2)\n",
    "plot.plot(refx,refy, color=\"k\", lw=2)\n",
    "plot.subplots_adjust(left=0.12, right=0.97, bottom=0.10, top=0.95)\n",
    "plot.savefig(\"/Users/alechewitt/Desktop/Figure.pdf\")\n",
    "plot.show()"
   ]
  },
  {
   "cell_type": "markdown",
   "metadata": {},
   "source": [
    "## 7. Export Contours"
   ]
  },
  {
   "cell_type": "markdown",
   "metadata": {},
   "source": [
    "It might also be useful to extract the contours lines, and save them as a text file. This can be done using the `extract_contours()` function. As example, let us export the FASER2 line. "
   ]
  },
  {
   "cell_type": "code",
   "execution_count": 26,
   "metadata": {},
   "outputs": [],
   "source": [
    "foresee.extract_contours(\n",
    "    inputfile=\"model/results/14TeV_default.npy\", \n",
    "    outputfile=\"model/lines/limits_FASER2.txt\"\n",
    ")"
   ]
  }
 ],
 "metadata": {
  "interpreter": {
   "hash": "d992d1d0d82f377b2d7582744839498d1eb429866497c2c977ef925f2dbe2ea3"
  },
  "kernelspec": {
   "display_name": "Python 3.10.4 ('forsee')",
   "language": "python",
   "name": "python3"
  },
  "language_info": {
   "codemirror_mode": {
    "name": "ipython",
    "version": 3
   },
   "file_extension": ".py",
   "mimetype": "text/x-python",
   "name": "python",
   "nbconvert_exporter": "python",
   "pygments_lexer": "ipython3",
   "version": "3.10.4"
  },
  "toc": {
   "base_numbering": 1,
   "nav_menu": {
    "height": "734px",
    "width": "465px"
   },
   "number_sections": true,
   "sideBar": true,
   "skip_h1_title": false,
   "title_cell": "Table of Contents",
   "title_sidebar": "Contents",
   "toc_cell": false,
   "toc_position": {},
   "toc_section_display": true,
   "toc_window_display": false
  }
 },
 "nbformat": 4,
 "nbformat_minor": 2
}
