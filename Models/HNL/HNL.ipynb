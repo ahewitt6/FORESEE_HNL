{
 "cells": [
  {
   "cell_type": "markdown",
   "metadata": {},
   "source": [
    "# FORESEE Tutorial - Heavy Neutral Leptons (HNLs)"
   ]
  },
  {
   "cell_type": "markdown",
   "metadata": {},
   "source": [
    "### Load Libraries "
   ]
  },
  {
   "cell_type": "code",
   "execution_count": 1,
   "metadata": {},
   "outputs": [],
   "source": [
    "import sys\n",
    "src_path = \"/Users/alechewitt/Desktop/Jonathan_research/Git/FORESEE\"\n",
    "sys.path.append(src_path)\n",
    "\n",
    "import numpy as np\n",
    "from src.foresee import Foresee, Utility, Model\n",
    "\n",
    "from matplotlib import pyplot as plt"
   ]
  },
  {
   "cell_type": "markdown",
   "metadata": {},
   "source": [
    "## 1. Initialization \n"
   ]
  },
  {
   "cell_type": "markdown",
   "metadata": {},
   "source": [
    "All function that we will need are included in the FORESEE package. We start by simply initializing it: "
   ]
  },
  {
   "cell_type": "code",
   "execution_count": 2,
   "metadata": {},
   "outputs": [],
   "source": [
    "foresee = Foresee()"
   ]
  },
  {
   "cell_type": "markdown",
   "metadata": {},
   "source": [
    "HNL's are produced mainly via $\\text{D}^+_s$ meson decay. To start, let us have a look at the $\\text{D}^+_s$ spectrum in terms of the angle with respect to the beam axis $\\theta$ and the momentum $p$. This can be done using the function `get_spectrumplot` which requires the MC particle ID (or simply pid), the MC generator and the energy. The units on the coloraxis are pb/bin. \n",
    "\n",
    "FORESEE provides the 2D spectrum as tables for a variety of particles ($\\text{D}^+_s$, $\\eta$, ...), generators (SIBYLL, EPOSLHC, QGSJET, PYTHIA) and collision energies (14, 27 and 100 TeV). The datafiles are stored in the directory `files/hadrons`. Let us show the $\\text{D}^+_s$ spectrum here. "
   ]
  },
  {
   "cell_type": "code",
   "execution_count": 3,
   "metadata": {},
   "outputs": [
    {
     "data": {
      "image/png": "[encoded data removed]",
      "text/plain": [
       "<Figure size 576x396 with 2 Axes>"
      ]
     },
     "metadata": {
      "needs_background": "light"
     },
     "output_type": "display_data"
    }
   ],
   "source": [
    "plot=foresee.get_spectrumplot(pid=\"431\", generator=\"Pythia8\", energy=\"14\")\n",
    "plot.show()"
   ]
  },
  {
   "cell_type": "markdown",
   "metadata": {},
   "source": [
    "## 2. Specifying the Model: Heavy Neutral Leptons"
   ]
  },
  {
   "cell_type": "markdown",
   "metadata": {},
   "source": [
    "The phenomenology of a right handed Heavy Neutral Lepton $\\tilde{N}$ can be described by the following Lagrangian\n",
    "\n",
    "\\begin{equation}\n",
    " \\mathcal{L}_{HNL}=i \\bar{\\tilde{N}} \\gamma^{\\mu} \\partial_{\\mu} \\tilde{N} - F_{\\alpha } \\bar{L}_{\\alpha} \\tilde{N} \\tilde{\\Phi}- \\frac{1}{2} \\bar{\\tilde{N}}^c M_N \\tilde{N} + \\rm{h.c.}\n",
    "\\end{equation}\n",
    "\n",
    "with the HNL masses $M_N$ and the Yukawa couplings to SM leptons $F_{\\alpha}$ as free parameters with $\\alpha=e,\\mu, \\tau$. For the search for HNL's at forward experiments we need to know i) the *production rate*, ii) the *lifetime* and iii) possibly the *decay branching fractions* of HNL's as function of the two sets parameters. All properties are specified in the `Model` class. We initialize it with the name of the model as argument. Optionally, we can also add the `path` to the directory where the model is stored. "
   ]
  },
  {
   "cell_type": "code",
   "execution_count": 4,
   "metadata": {},
   "outputs": [
    {
     "name": "stdout",
     "output_type": "stream",
     "text": [
      "0.02069860411438542\n"
     ]
    }
   ],
   "source": [
    "#for D+ 411\n",
    "energy = \"14\"\n",
    "modelname=\"HNL\"\n",
    "model = Model(modelname, path=\"./\")\n",
    "masse=0.000511 #GeV\n",
    "SecToGev=1./(6.582122*pow(10.,-25.))\n",
    "tauH=1040*10**(-15)*SecToGev #GeV\n",
    "VH=.221 #unitless\n",
    "MH=1.8696 #mass of D+ in GeV\n",
    "fH=.2226 #GeV\n",
    "GF=1.166378*10**(-5) #GeV^(-2)\n",
    "prefactorDp=((tauH*GF**2*fH**2*VH**2)/(8*np.pi))\n",
    "print(prefactorDp)\n",
    "#coupling is Ualpha"
   ]
  },
  {
   "cell_type": "code",
   "execution_count": 5,
   "metadata": {},
   "outputs": [
    {
     "name": "stdout",
     "output_type": "stream",
     "text": [
      "0.3142703280466045\n"
     ]
    }
   ],
   "source": [
    "#for D+s 431\n",
    "energy = \"14\"\n",
    "modelname=\"HNL\"\n",
    "model = Model(modelname, path=\"./\")\n",
    "masse=0.000511 #GeV\n",
    "SecToGev=1./(6.582122*pow(10.,-25.))\n",
    "tauH=500*10**(-15)*SecToGev #GeV\n",
    "VH=0.987 #unitless\n",
    "MH=1.96847 #mass of D+ in GeV\n",
    "fH=.2801 #GeV\n",
    "GF=1.166378*10**(-5) #GeV^(-2)\n",
    "prefactorDps=((tauH*GF**2*fH**2*VH**2)/(8*np.pi))\n",
    "#prefactorDps=1\n",
    "print(prefactorDps)\n",
    "#coupling is Ualpha"
   ]
  },
  {
   "cell_type": "markdown",
   "metadata": {},
   "source": [
    "**Production** Most LLPs are produced in the decay of primary particles. Here we need to specify the total branching fraction into the LLP as function of the `coupling` and the `mass`. We additionally specify the variable `nsample` which specifies how often each parent particle is decayed. \n",
    "\n",
    "For the HNL, we have the branching fraction\n",
    "\n",
    "\\begin{equation}\n",
    "    \\text{Br} \\left(H^+ \\rightarrow \\ell_{\\alpha}^{+} N \\right) = \\tau_H \\frac{G_F^2 f_H^2 M_H M_N^2}{8 \\pi} |V_H|^2 |U_{\\alpha}|^2 \\cdot \\left( 1- \\frac{M_N^2}{M_H^2} + 2 \\frac{M_{\\ell}^2}{M_H^2}+ \\frac{M_{\\ell}^2}{M_N^2} \\left( 1- \\frac{M_{\\ell}^2}{M_H^2} \\right) \\right)\\times \\sqrt{\\left(1+ \\frac{M_N^2}{M_H^2}- \\frac{M_{\\ell}^2}{M_H^2}\\right)^2 - 4 \\frac{M_N^2}{M_H^2}}\n",
    "\\end{equation}\n",
    "\n",
    "There is also the option for 3-body decays $p_0 \\to p_1 p_2 p_3$ with $p_3$ being the LLP. This can be added using the function `add_production_3bodydecay()`. It requires to provide `br` which is the differential branching fraction $d\\text{BR}/(dq \\ d\\cos\\vartheta)$ where $q^2=(p_2+p_3)^2$ and $\\vartheta$ is the angle between $p_3$ in the restframe of $p_2+p_3$ and the direction of $p_2+p_3$ in the restframe of $p_0$. We do not have an example for this in the dark photon case. "
   ]
  },
  {
   "cell_type": "code",
   "execution_count": 6,
   "metadata": {},
   "outputs": [],
   "source": [
    "#for D+\n",
    "model.add_production_2bodydecay(\n",
    "    pid0 = \"411\",\n",
    "    pid1 = \"-11\",\n",
    "    br=str(prefactorDp)+\"*coupling**2*mass**2*self.masses('411')*(1.-(mass/self.masses('411'))**2 + 2.* (0.000511/self.masses('411'))**2 + (0.000511/mass)**2*(1.-(0.000511/self.masses('411'))**2)) * np.sqrt((1.+(mass/self.masses('411'))**2 - (0.000511/self.masses('411'))**2)**2-4.*(mass/self.masses('411'))**2)\",\n",
    "    generator = \"Pythia8\",\n",
    "    energy = energy,\n",
    "    nsample = 10\n",
    ")"
   ]
  },
  {
   "cell_type": "markdown",
   "metadata": {},
   "source": [
    "We can also produce the dark photon via it's resonant mixing with the SM vector mesons, in particular the $\\omega$, $\\rho$ and $\\phi$ mesons. Following [arXiv:1810.01879](https://arxiv.org/pdf/1810.01879.pdf), we can write \n",
    "\n",
    "\\begin{equation}\n",
    "    \\sigma(A') = \\theta_V^2 \\  \\sigma(V)\n",
    "    \\quad\\quad\\text{with}\\quad\\quad\n",
    "    \\theta_V = \\frac{\\epsilon e}{g_V}  \\frac{m_V^2}{m_{A'}^2 - m_V^2 + i m_V \\Gamma_V}\n",
    "\\end{equation}\n",
    "\n",
    "Here $g_\\omega = 17$, $g_\\rho=5$ and $g_\\phi=-12.88$. We can specify this production mode using `model.add_production_mixing()`. In the following, we focus on the $\\rho$, which provides the leading contribution. "
   ]
  },
  {
   "cell_type": "code",
   "execution_count": 7,
   "metadata": {},
   "outputs": [
    {
     "data": {
      "text/plain": [
       "'model.add_production_mixing(\\n    pid = \"113\",\\n    mixing = \"coupling * 0.3/5. * 0.77545**2/abs(mass**2-0.77545**2+0.77545*0.147*1j)\",\\n    generator = \"EPOSLHC\",\\n    energy = energy,\\n)'"
      ]
     },
     "execution_count": 7,
     "metadata": {},
     "output_type": "execute_result"
    }
   ],
   "source": [
    "'''model.add_production_mixing(\n",
    "    pid = \"113\",\n",
    "    mixing = \"coupling * 0.3/5. * 0.77545**2/abs(mass**2-0.77545**2+0.77545*0.147*1j)\",\n",
    "    generator = \"EPOSLHC\",\n",
    "    energy = energy,\n",
    ")'''"
   ]
  },
  {
   "cell_type": "markdown",
   "metadata": {},
   "source": [
    "Particles can also be produced directly in collisions. In the case of dark photons, this proceeds through Bremsstrahlung at lower masses or through Drell-Yan production at higher masses. The spectra for LLPs at some reference coupling need to be provided for a fixed set of masses in the `model/direct` directory. We also provide an option to implement additional conditions in terms of the momentum `p`, in this case the requirement that pT of dark photon produced in Bremssteahlung is smaller than 1 GeV."
   ]
  },
  {
   "cell_type": "code",
   "execution_count": 8,
   "metadata": {},
   "outputs": [
    {
     "data": {
      "text/plain": [
       "'model.add_production_direct(\\n    label = \"DY\",\\n    energy = energy,\\n    coupling_ref=1,\\n    masses = [\\n        1.00, 1.122, 1.258, 1.412, 1.501, 1.541, 1.549, 1.584, 1.778, 1.801, \\n        1.821, 1.841, 1.844, 1.995, 2.238, 2.511, 2.818, 3.162, 3.548, 3.981, \\n        4.466, 4.601, 4.666, 4.701, 4.731, 4.901, 5.011, 5.012, 5.101, 5.171, \\n        5.178, 5.623, 6.309, 7.079, 7.943, 8.912, 10.01, 11.22, 12.58, 14.12, \\n        15.84, 17.78, 19.95, 22.38, 25.11, 28.18, 31.62, 35.48, 39.81, 44.66, \\n        50.11, 56.23, 63.09, 70.79, 79.43, 89.12, 100.01\\n    ]\\n)'"
      ]
     },
     "execution_count": 8,
     "metadata": {},
     "output_type": "execute_result"
    }
   ],
   "source": [
    "'''masses_brem = [ \n",
    "    0.01  ,  0.0126,  0.0158,  0.02  ,  0.0251,  0.0316,  0.0398,\n",
    "    0.0501,  0.0631,  0.0794,  0.1   ,  0.1122,  0.1259,  0.1413,\n",
    "    0.1585,  0.1778,  0.1995,  0.2239,  0.2512,  0.2818,  0.3162,\n",
    "    0.3548,  0.3981,  0.4467,  0.5012,  0.5623,  0.6026,  0.631 ,\n",
    "    0.6457,  0.6607,  0.6761,  0.6918,  0.7079,  0.7244,  0.7413,\n",
    "    0.7586,  0.7762,  0.7943,  0.8128,  0.8318,  0.8511,  0.871 ,\n",
    "    0.8913,  0.912 ,  0.9333,  0.955 ,  0.9772,  1.    ,  1.122 ,\n",
    "    1.2589,  1.4125,  1.5849,  1.7783,  1.9953,  2.2387,  2.5119,\n",
    "    2.8184,  3.1623,  3.9811,  5.0119,  6.3096,  7.9433, 10.    \n",
    "]'''\n",
    "\n",
    "'''model.add_production_direct(\n",
    "    label = \"Brem\",\n",
    "    energy = energy,\n",
    "    condition = \"p.pt<1\",\n",
    "    coupling_ref=1,\n",
    "    masses = masses_brem,\n",
    ")\n",
    "\n",
    "masses_dy = [ \n",
    "    1.5849,  1.7783,  1.9953,  2.2387,  2.5119, 2.8184,  3.1623,  3.9811,  5.0119,  6.3096,  7.9433, 10.    \n",
    "]\n",
    "\n",
    "model.add_production_direct(\n",
    "    label = \"DY\",\n",
    "    energy = energy,\n",
    "    coupling_ref=1,\n",
    "    masses = masses_dy,\n",
    ")'''\n",
    "'''model.add_production_direct(\n",
    "    label = \"DY\",\n",
    "    energy = energy,\n",
    "    coupling_ref=1,\n",
    "    masses = [\n",
    "        1.00, 1.122, 1.258, 1.412, 1.501, 1.541, 1.549, 1.584, 1.778, 1.801, \n",
    "        1.821, 1.841, 1.844, 1.995, 2.238, 2.511, 2.818, 3.162, 3.548, 3.981, \n",
    "        4.466, 4.601, 4.666, 4.701, 4.731, 4.901, 5.011, 5.012, 5.101, 5.171, \n",
    "        5.178, 5.623, 6.309, 7.079, 7.943, 8.912, 10.01, 11.22, 12.58, 14.12, \n",
    "        15.84, 17.78, 19.95, 22.38, 25.11, 28.18, 31.62, 35.48, 39.81, 44.66, \n",
    "        50.11, 56.23, 63.09, 70.79, 79.43, 89.12, 100.01\n",
    "    ]\n",
    ")'''"
   ]
  },
  {
   "cell_type": "markdown",
   "metadata": {},
   "source": [
    "**Lifetime:** For most models the lifetime can be written as $\\ c\\tau(m,g)\\  =\\  c\\tau(m,g_*) \\ \\cdot\\  g_*^2 \\ / \\ g^{2}$ where $m$ is the mass, $g$ is the coupling and $g_*$ is some reference coupling. In this case, we can provide a table of masses $m$ and lifetimes $c\\tau(m,g_*)$ at a reference coupling $g_*$ using `model.set_ctau_1d`. Alternatively, one can also provide a table of masses $m$, couplings $g$ and lifetimes $c\\tau(m,g)$ via `model.set_ctau_2d()`. "
   ]
  },
  {
   "cell_type": "code",
   "execution_count": 9,
   "metadata": {},
   "outputs": [],
   "source": [
    "model.set_ctau_1d(\n",
    "    filename=\"model/ctau.txt\", \n",
    "    coupling_ref=10**-3.5\n",
    ")"
   ]
  },
  {
   "cell_type": "markdown",
   "metadata": {},
   "source": [
    "**Branching Fractions:** For most models, the branching fractions into particular decay channels are independent of the overall couplings. In this case, we can provide a set of tables of masses $m$ and branching fractions $BR(m)$ using `model.set_br_1d`. Alternatively, we can also provide table of masses $m$, couplings $g$ and branching fraction $BR(m,g)$ via `model.set_br_2d()`. In both cases, we need to specify a list of decay modes and a list of filenames with the corresponding data tables. "
   ]
  },
  {
   "cell_type": "code",
   "execution_count": 10,
   "metadata": {},
   "outputs": [],
   "source": [
    "model.set_br_1d(\n",
    "    modes=[\"e_mu\", \"e_tau\"],\n",
    "    finalstates=[[11,13], [11,15]],\n",
    "    filenames=[\"model/br/br_elecmuon.txt\",\"model/br/br_electau.txt\"]\n",
    ")"
   ]
  },
  {
   "cell_type": "markdown",
   "metadata": {},
   "source": [
    "## 3. Generate LLP Spectra"
   ]
  },
  {
   "cell_type": "markdown",
   "metadata": {},
   "source": [
    "After we have specified the model, let us generate the LLP spectra. We first set the model we just created. "
   ]
  },
  {
   "cell_type": "code",
   "execution_count": 11,
   "metadata": {},
   "outputs": [],
   "source": [
    "foresee.set_model(model=model)"
   ]
  },
  {
   "cell_type": "markdown",
   "metadata": {},
   "source": [
    "Let's first look at one benchmark scenario with $M_{N}=1$ GeV and $\\epsilon=10^{-3.5}$ using the function `foresee.get_llp_spectrum()`. By default, the result are saved in the `model/LLP_spectra` directory. However, here set `save_file=False` since we don't want to save the results but set `do_plot=True` to plot them. "
   ]
  },
  {
   "cell_type": "code",
   "execution_count": 12,
   "metadata": {},
   "outputs": [
    {
     "data": {
      "image/png": "[encoded data removed]",
      "text/plain": [
       "<Figure size 576x396 with 2 Axes>"
      ]
     },
     "metadata": {
      "needs_background": "light"
     },
     "output_type": "display_data"
    }
   ],
   "source": [
    "plot = foresee.get_llp_spectrum(1, coupling=10**-3.5, do_plot=True, save_file=False)\n",
    "plot.show()"
   ]
  },
  {
   "cell_type": "markdown",
   "metadata": {},
   "source": [
    "We can now produce a set of LLP spectra for various masses  (chosen to be equally spaced in log(mass)) and unit coupling and save them. "
   ]
  },
  {
   "cell_type": "code",
   "execution_count": 13,
   "metadata": {},
   "outputs": [
    {
     "data": {
      "text/plain": [
       "'for mass in masses:\\n    foresee.get_llp_spectrum(mass=mass,coupling=10**-3.5)'"
      ]
     },
     "execution_count": 13,
     "metadata": {},
     "output_type": "execute_result"
    }
   ],
   "source": [
    "masses = [ \n",
    "    0.01  ,  0.0126,  0.0158,  0.02  ,  0.0251,  0.0316,  0.0398,\n",
    "    0.0501,  0.0631,  0.0794,  0.1   ,  0.1122,  0.1259,  0.1413,\n",
    "    0.1585,  0.1778,  0.1995,  0.2239,  0.2512,  0.2818,  0.3162,\n",
    "    0.3548,  0.3981,  0.4467,  0.5012,  0.5623,  0.6026,  0.631 ,\n",
    "    0.6457,  0.6607,  0.6761,  0.6918,  0.7079,  0.7244,  0.7413,\n",
    "    0.7586,  0.7762,  0.7943,  0.8128,  0.8318,  0.8511,  0.871 ,\n",
    "    0.8913,  0.912 ,  0.9333,  0.955 ,  0.9772,  1.    ,  1.122 ,\n",
    "    1.2589,  1.4125,  1.5849,  1.7783,  1.9953,  2.2387,  2.5119,\n",
    "    2.8184,  3.1623,  3.9811,  5.0119,  6.3096,  7.9433, 10.    \n",
    "]\n",
    "\n",
    "'''for mass in masses:\n",
    "    foresee.get_llp_spectrum(mass=mass,coupling=10**-3.5)'''"
   ]
  },
  {
   "cell_type": "markdown",
   "metadata": {},
   "source": [
    "## 4. Count Event Rate in Detector"
   ]
  },
  {
   "cell_type": "markdown",
   "metadata": {},
   "source": [
    "Before counting the number of decays within the detector volume, let us specify the detector geometry. For this we need\n",
    "\n",
    "- the `distance` from the IP in meter (default: 480)\n",
    "- the `length` in meter (default: 5)\n",
    "- the `luminosity` in units of fb^-1 (default: 3000)\n",
    "- the `selection` depending in `x.x` and `x.y` (default: `np.sqrt(x.x**2 + x.y**2)< 1`)\n",
    "- the decay `channels` which the detector can see (default: None, meaning all of them)\n",
    "\n",
    "The default correspond to the FASER2 detector."
   ]
  },
  {
   "cell_type": "code",
   "execution_count": 14,
   "metadata": {},
   "outputs": [],
   "source": [
    "distance, selection, length, luminosity, channels = 480, \"np.sqrt(x.x**2 + x.y**2)< 1\", 5, 3000, None\n",
    "foresee.set_detector(distance=distance, selection=selection, length=length, luminosity=luminosity, channels=channels)"
   ]
  },
  {
   "cell_type": "markdown",
   "metadata": {},
   "source": [
    "Let us look for one specific HNL mass $M_{N}=1$ GeV at how many particle decay inside the decay volume. This can be done using `get_events()` for which we need to specify again the mass and filename. Additionally, we can specify \n",
    "\n",
    "- the `couplings` for which we evaluate the event rate as numpy array (deault `np.logspace(-8,-3,51)`)\n",
    "- the `preselectioncuts` when reading the LLP spectra in terms of momentum `p` and angle `th` (default: `th<0.01 and p>100`)\n",
    "- the number `nsample` describing how many randomly choosen values of $\\phi_{LLP}$ should sampled (default 1). This is only relevant for detectors that are not cylyndrical or not centered around the beam axis. \n",
    "- the production `modes` which should be considered\n",
    "- the `energy` of the experiments"
   ]
  },
  {
   "cell_type": "code",
   "execution_count": 15,
   "metadata": {},
   "outputs": [
    {
     "name": "stdout",
     "output_type": "stream",
     "text": [
      "epsilon = 1.000e-10 : nsignal = 8.067e-27\n",
      "epsilon = 3.981e-10 : nsignal = 2.026e-24\n",
      "epsilon = 1.585e-09 : nsignal = 5.090e-22\n",
      "epsilon = 6.310e-09 : nsignal = 1.279e-19\n",
      "epsilon = 2.512e-08 : nsignal = 3.212e-17\n",
      "epsilon = 1.000e-07 : nsignal = 8.065e-15\n"
     ]
    }
   ],
   "source": [
    "mass=1.\n",
    "output = foresee.get_events(mass=mass, energy=energy, couplings=np.logspace(-10,-7,6))\n",
    "coups, ctaus, nsigs, energies, weights, _ = output\n",
    "for coup,ctau,nsig in zip(coups, ctaus, nsigs):\n",
    "    print (\"epsilon =\", '{:5.3e}'.format(coup), \": nsignal =\", '{:5.3e}'.format(nsig))\n"
   ]
  },
  {
   "cell_type": "markdown",
   "metadata": {},
   "source": [
    "The previous function also outputs the energy distribution of the HNL particles which decay inside the detector. Let's have a look at them."
   ]
  },
  {
   "cell_type": "code",
   "execution_count": 39,
   "metadata": {},
   "outputs": [
    {
     "data": {
      "image/png": "[encoded data removed]",
      "text/plain": [
       "<Figure size 504x360 with 1 Axes>"
      ]
     },
     "metadata": {
      "needs_background": "light"
     },
     "output_type": "display_data"
    }
   ],
   "source": [
    "fig = plt.figure(figsize=(7,5))\n",
    "ax = plt.subplot(1,1,1)\n",
    "ens=[]\n",
    "for coup,en,weight in zip(coups,energies,weights):\n",
    "    if sum(weight)<10**-18 : continue\n",
    "    ens.append(en)\n",
    "    ax.hist(en, weights=weight, bins=np.logspace(2,4, 20), histtype='step', label=r\"$\\epsilon=$\"+str(coup)) \n",
    "    ax.set_xscale(\"log\")\n",
    "    ax.set_yscale(\"log\")\n",
    "    ax.set_ylim(10**-19,9*10**-14) \n",
    "    ax.set_xlabel(\"E(N) [GeV]\") \n",
    "    ax.set_ylabel(\"Number of Events per bin\") \n",
    "    ax.legend(frameon=False, labelspacing=0)\n",
    "plt.tight_layout()\n",
    "plt.show()"
   ]
  },
  {
   "cell_type": "markdown",
   "metadata": {},
   "source": [
    "FORESEE also includes a function `write_events()` which obtains an unweighted sample of LLP decay events and saves them as a HEPMC file. For this function, we need to specify\n",
    "- the `mass` and `coupling` of the LLP\n",
    "- the collision `energy`\n",
    "- the number of events `numberevent` that should be samples (optional, default=10)\n",
    "- the `filename` of the output file (optional, default=`model/events/<mass>_<coupling>.hepmc`)\n",
    "- the z-position (in meter) of the beginning of the decay volume (optional, default=0)\n",
    "- a random `seed` (optional, default=None)\n",
    "- the `decaychannels` for which the event should bbe written to file (optional, default=None meaning that all channels are written to file)\n",
    "\n",
    "At the moment, FORESEE only supports 2-body LLP decays. For all other cases, including those where no final state information was specified when initiating the `Model`, the LLP will not be decayed. "
   ]
  },
  {
   "cell_type": "code",
   "execution_count": 17,
   "metadata": {},
   "outputs": [
    {
     "name": "stdout",
     "output_type": "stream",
     "text": [
      "0.1377709\n"
     ]
    }
   ],
   "source": [
    "foresee.write_events(filename=\"model/events/test.hepmc\", mass=1.7783, coupling=2.512e-07, \n",
    "    energy=\"14\", numberevent=10, zfront=0, decaychannels=[\"e_mu\"])"
   ]
  },
  {
   "cell_type": "markdown",
   "metadata": {},
   "source": [
    "Let us have a look at a the output:"
   ]
  },
  {
   "cell_type": "code",
   "execution_count": 18,
   "metadata": {},
   "outputs": [
    {
     "name": "stdout",
     "output_type": "stream",
     "text": [
      "HepMC::Version 2.06.09\n",
      "HepMC::IO_GenEvent-START_EVENT_LISTING\n",
      "E 0 -1 -1. -1. -1. 0 -1 1 1 0 0 0\n",
      "U GEV MM\n",
      "C 7.715185654360313e-15 0.\n",
      "F 0 0 0 0 0 0 0 0 0\n",
      "V -1 0 68.2771211144 159.6449161823 3693.5354596667 1567766098453.61 1 2 0\n",
      "P 1 32 0.1311664683 0.3066921904 922.1229745629 922.124749604 1.7783 2 0 0 -1 0\n",
      "P 2 11 -0.7644520005 -0.1494806047 470.0314418331 470.0320872486 0.0005109986 1 0 0 0 0\n",
      "P 3 13 0.8956184687 0.4561727951 452.091532716 452.0926623417 0.1056579996 1 0 0 0 0\n",
      "E 1 -1 -1. -1. -1. 0 -1 1 1 0 0 0\n",
      "U GEV MM\n",
      "C 7.715185654360313e-15 0.\n",
      "F 0 0 0 0 0 0 0 0 0\n",
      "V -1 0 -145.8021513542 -289.910398688 79.2719623951 93249404598.76266 1 2 0\n",
      "P 1 32 -0.1950570669 -0.3878479947 642.1536100205 642.1562190671 1.7783 2 0 0 -1 0\n",
      "P 2 11 0.5996951126 0.2893004938 148.3870596269 148.3885534466 0.0005110128 1 0 0 0 0\n",
      "P 3 13 -0.7947521795 -0.6771484885 493.7665503883 493.7676656152 0.1056580002 1 0 0 0 0\n",
      "E 2 -1 -1. -1. -1. 0 -1 1 1 0 0 0\n",
      "U GEV MM\n",
      "C 7.715185654360313e-15 0.\n",
      "F 0 0 0 0 0 0 0 0 0\n",
      "V -1 0 691.5928496334 426.8668083863 3801.0749845526 1617736122290.5444 1 2 0\n",
      "P 1 32 0.5057695758 0.3121724649 351.0290260065 351.0340335416 1.7783 2 0 0 -1 0\n",
      "P 2 11 -0.2688713359 0.6664711425 259.1937824583 259.1947787685 0.0005109986 1 0 0 0 0\n",
      "P 3 13 0.7746409117 -0.3542986775 91.8352435486 91.8392547735 0.105658 1 0 0 0 0\n",
      "E 3 -1 -1. -1. -1. 0 -1 1 1 0 0 0\n",
      "U GEV MM\n",
      "C 7.715185654360313e-15 0.\n",
      "F 0 0 0 0 0 0 0 0 0\n",
      "V -1 0 -397.3072536718 -95.6886560567 3349.155937784 1421216471163.9666 1 2 0\n",
      "P 1 32 -0.7481248556 -0.1801806066 903.8340996445 903.836176631 1.7783 2 0 0 -1 0\n",
      "P 2 11 0.0118840899 0.3252900721 692.8205082898 692.8205847563 0.0005111125 1 0 0 0 0\n",
      "P 3 13 -0.7600089455 -0.5054706788 211.0135913573 211.0155918773 0.1056579999 1 0 0 0 0\n",
      "E 4 -1 -1. -1. -1. 0 -1 1 1 0 0 0\n",
      "U GEV MM\n",
      "C 7.715185654360313e-15 0.\n",
      "F 0 0 0 0 0 0 0 0 0\n",
      "V -1 0 40.1536153049 926.0536242817 3807.8368705757 1639241797990.4177 1 2 0\n",
      "P 1 32 0.0282886035 0.6524135779 338.164140706 338.1694469552 1.7783 2 0 0 -1 0\n",
      "P 2 11 -0.1384956798 -0.2875538681 13.1009020346 13.1047893025 0.0005110015 1 0 0 0 0\n",
      "P 3 13 0.1667842833 0.9399674459 325.0632386712 325.0646576526 0.1056579998 1 0 0 0 0\n",
      "E 5 -1 -1. -1. -1. 0 -1 1 1 0 0 0\n",
      "U GEV MM\n",
      "C 7.715185654360313e-15 0.\n",
      "F 0 0 0 0 0 0 0 0 0\n",
      "V -1 0 -413.2299308626 655.765701453 795.5882436945 390685930894.72156 1 2 0\n",
      "P 1 32 -0.1234797274 0.1959533035 143.4315697327 143.4427802011 1.7783 2 0 0 -1 0\n",
      "P 2 11 -0.3206921666 0.934455882 93.9445857159 93.9497803981 0.0005110022 1 0 0 0 0\n",
      "P 3 13 0.1972124392 -0.7385025785 49.4869840168 49.492999803 0.105658 1 0 0 0 0\n",
      "E 6 -1 -1. -1. -1. 0 -1 1 1 0 0 0\n",
      "U GEV MM\n",
      "C 7.715185654360313e-15 0.\n",
      "F 0 0 0 0 0 0 0 0 0\n",
      "V -1 0 494.6822659799 -757.4821487908 3601.5846716653 1544828247737.4922 1 2 0\n",
      "P 1 32 0.1416863236 -0.2169571626 137.4808830996 137.4926278539 1.7783 2 0 0 -1 0\n",
      "P 2 11 0.3923938637 -0.6177717341 25.0200793661 25.030780783 0.0005110005 1 0 0 0 0\n",
      "P 3 13 -0.2507075401 0.4008145715 112.4608037335 112.4618470709 0.105658 1 0 0 0 0\n",
      "E 7 -1 -1. -1. -1. 0 -1 1 1 0 0 0\n",
      "U GEV MM\n",
      "C 7.715185654360313e-15 0.\n",
      "F 0 0 0 0 0 0 0 0 0\n",
      "V -1 0 189.0900186731 -968.2575697503 650.1962718788 400590788059.10406 1 2 0\n",
      "P 1 32 0.1442557413 -0.7386784054 366.1888596734 366.1939510087 1.7783 2 0 0 -1 0\n",
      "P 2 11 0.829329206 -0.8237558151 180.9953524005 180.9991269355 0.0005109986 1 0 0 0 0\n",
      "P 3 13 -0.6850734647 0.0850774097 185.1935072724 185.1948240726 0.105658 1 0 0 0 0\n",
      "E 8 -1 -1. -1. -1. 0 -1 1 1 0 0 0\n",
      "U GEV MM\n",
      "C 7.715185654360313e-15 0.\n",
      "F 0 0 0 0 0 0 0 0 0\n",
      "V -1 0 -314.5718278835 -306.7157301187 3949.5371210566 1678171187104.577 1 2 0\n",
      "P 1 32 -0.7112008102 -0.6934393243 1085.2093649992 1085.2112766174 1.7783 2 0 0 -1 0\n",
      "P 2 11 -0.7233090483 -0.1509618506 991.8362567805 991.8365320103 0.0005106568 1 0 0 0 0\n",
      "P 3 13 0.012108238 -0.5424774737 93.3731082326 93.3747446211 0.105658 1 0 0 0 0\n",
      "E 9 -1 -1. -1. -1. 0 -1 1 1 0 0 0\n",
      "U GEV MM\n",
      "C 7.715185654360313e-15 0.\n",
      "F 0 0 0 0 0 0 0 0 0\n",
      "V -1 0 277.5756184767 110.8255005269 2935.8282380907 1246010090682.9683 1 2 0\n",
      "P 1 32 0.9160110375 0.3657287419 1584.0196757341 1584.0209810155 1.7783000001 2 0 0 -1 0\n",
      "P 2 11 1.2150022702 -0.2655951344 1209.0971382946 1209.0977779335 0.0005106568 1 0 0 0 0\n",
      "P 3 13 -0.2989912327 0.6313238763 374.9225374318 374.9232030743 0.1056579998 1 0 0 0 0\n",
      "HepMC::IO_GenEvent-END_EVENT_LISTING\n",
      "\n"
     ]
    }
   ],
   "source": [
    "f = open(\"model/events/test.hepmc\", 'r')\n",
    "file_contents = f.read()\n",
    "print (file_contents)"
   ]
  },
  {
   "cell_type": "markdown",
   "metadata": {},
   "source": [
    "## 5. Parameter Scan"
   ]
  },
  {
   "cell_type": "markdown",
   "metadata": {},
   "source": [
    "In the following, we will get the LLP sensitivity reach for different detector configuraions. As an example, we show the FASER2 reach for dark photons for 3 scenarios. We just need to loop over different masses and use the previously introduced funtion `get_events`. The results will be written into a `.npy` file that we can store and plot later."
   ]
  },
  {
   "cell_type": "markdown",
   "metadata": {},
   "source": [
    "- the nominal/default setup"
   ]
  },
  {
   "cell_type": "code",
   "execution_count": 19,
   "metadata": {},
   "outputs": [
    {
     "data": {
      "text/plain": [
       "'#specify setup\\nluminosity, distance = 3000 , 480\\nsetup, selection, channels = \"default\", \"np.sqrt(x.x**2 + x.y**2)< 1\", None\\nforesee.set_detector(selection=selection, channels=channels, distance=distance, luminosity=luminosity)\\n\\n#get reach \\nlist_nevents = []    \\nfor mass in masses:\\n    couplings, _, nevents, _, _ , _ = foresee.get_events(mass=mass, energy=energy)\\n    list_nevents.append(nevents)  \\n    \\n#save results\\nnp.save(model.modelpath+\"model/results/\"+energy+\"TeV_\"+setup+\".npy\",[masses,couplings,list_nevents])'"
      ]
     },
     "execution_count": 19,
     "metadata": {},
     "output_type": "execute_result"
    }
   ],
   "source": [
    "#this part works, just long run time\n",
    "'''#specify setup\n",
    "luminosity, distance = 3000 , 480\n",
    "setup, selection, channels = \"default\", \"np.sqrt(x.x**2 + x.y**2)< 1\", None\n",
    "foresee.set_detector(selection=selection, channels=channels, distance=distance, luminosity=luminosity)\n",
    "\n",
    "#get reach \n",
    "list_nevents = []    \n",
    "for mass in masses:\n",
    "    couplings, _, nevents, _, _ , _ = foresee.get_events(mass=mass, energy=energy)\n",
    "    list_nevents.append(nevents)  \n",
    "    \n",
    "#save results\n",
    "np.save(model.modelpath+\"model/results/\"+energy+\"TeV_\"+setup+\".npy\",[masses,couplings,list_nevents])'''"
   ]
  },
  {
   "cell_type": "markdown",
   "metadata": {},
   "source": [
    "- a displaced setup, in which the detector is displaced by 1m from it's nominal position"
   ]
  },
  {
   "cell_type": "code",
   "execution_count": 20,
   "metadata": {},
   "outputs": [
    {
     "data": {
      "text/plain": [
       "'#specify setup\\nluminosity, distance = 3000 , 480\\nsetup, selection, channels = \"displaced\", \"np.sqrt((x.x-1)**2 + x.y**2)< 1\", None\\nforesee.set_detector(selection=selection, channels=channels, distance=distance, luminosity=luminosity)\\n\\n#get reach \\nlist_nevents = []    \\nfor mass in masses:\\n    couplings, _, nevents, _, _ , _ = foresee.get_events(mass=mass, energy=energy)\\n    list_nevents.append(nevents)  \\n    \\n#save results\\nnp.save(model.modelpath+\"model/results/\"+energy+\"TeV_\"+setup+\".npy\",[masses,couplings,list_nevents])'"
      ]
     },
     "execution_count": 20,
     "metadata": {},
     "output_type": "execute_result"
    }
   ],
   "source": [
    "#this part works, just long run time\n",
    "\n",
    "'''#specify setup\n",
    "luminosity, distance = 3000 , 480\n",
    "setup, selection, channels = \"displaced\", \"np.sqrt((x.x-1)**2 + x.y**2)< 1\", None\n",
    "foresee.set_detector(selection=selection, channels=channels, distance=distance, luminosity=luminosity)\n",
    "\n",
    "#get reach \n",
    "list_nevents = []    \n",
    "for mass in masses:\n",
    "    couplings, _, nevents, _, _ , _ = foresee.get_events(mass=mass, energy=energy)\n",
    "    list_nevents.append(nevents)  \n",
    "    \n",
    "#save results\n",
    "np.save(model.modelpath+\"model/results/\"+energy+\"TeV_\"+setup+\".npy\",[masses,couplings,list_nevents])'''"
   ]
  },
  {
   "cell_type": "markdown",
   "metadata": {},
   "source": [
    "- a search that only considered dark photon decays into electrons "
   ]
  },
  {
   "cell_type": "code",
   "execution_count": 21,
   "metadata": {},
   "outputs": [
    {
     "data": {
      "text/plain": [
       "'\\n#specify setup\\nluminosity, distance = 3000 , 480\\nsetup, selection, channels = \"electron\", \"np.sqrt(x.x**2 + x.y**2)< 1\", [\"e_mu\"]\\nforesee.set_detector(selection=selection, channels=channels, distance=distance, luminosity=luminosity)\\n\\n#get reach \\nlist_nevents = []    \\nfor mass in masses:\\n    couplings, _, nevents, _, _ , _ = foresee.get_events(mass=mass, energy=energy)\\n    list_nevents.append(nevents)  \\n    \\n#save results\\nnp.save(model.modelpath+\"model/results/\"+energy+\"TeV_\"+setup+\".npy\",[masses,couplings,list_nevents])'"
      ]
     },
     "execution_count": 21,
     "metadata": {},
     "output_type": "execute_result"
    }
   ],
   "source": [
    "#this part works, just long run time\n",
    "'''\n",
    "#specify setup\n",
    "luminosity, distance = 3000 , 480\n",
    "setup, selection, channels = \"electron\", \"np.sqrt(x.x**2 + x.y**2)< 1\", [\"e_mu\"]\n",
    "foresee.set_detector(selection=selection, channels=channels, distance=distance, luminosity=luminosity)\n",
    "\n",
    "#get reach \n",
    "list_nevents = []    \n",
    "for mass in masses:\n",
    "    couplings, _, nevents, _, _ , _ = foresee.get_events(mass=mass, energy=energy)\n",
    "    list_nevents.append(nevents)  \n",
    "    \n",
    "#save results\n",
    "np.save(model.modelpath+\"model/results/\"+energy+\"TeV_\"+setup+\".npy\",[masses,couplings,list_nevents])'''"
   ]
  },
  {
   "cell_type": "markdown",
   "metadata": {},
   "source": [
    "## 6. Plot the Results"
   ]
  },
  {
   "cell_type": "markdown",
   "metadata": {},
   "source": [
    "Now let's plot the results. We first specify all detector setups for which we want to show result (filename in model/results directory, label, color, linestyle, opacity alpha for filled contours, required number of events)."
   ]
  },
  {
   "cell_type": "code",
   "execution_count": 22,
   "metadata": {},
   "outputs": [],
   "source": [
    "setups = [\n",
    "    [\"14TeV_default.npy\",    \"default\"  , \"red\",     \"solid\", 0., 3],\n",
    "    [\"14TeV_displaced.npy\",  \"displaced\", \"orange\",  \"solid\", 0., 3],\n",
    "    [\"14TeV_e_mu.npy\",   \"e_mu\" , \"magenta\", \"solid\", 0., 3],\n",
    "]"
   ]
  },
  {
   "cell_type": "markdown",
   "metadata": {},
   "source": [
    "Then we specify all the existing bounds (filename in model/bounds directory, label, label position x, label position y, label rotation)"
   ]
  },
  {
   "cell_type": "markdown",
   "metadata": {},
   "source": [
    "We then specify other projected sensitivitities (filename in model/bounds directory, color, label, label position x, label position y, label rotation)"
   ]
  },
  {
   "cell_type": "code",
   "execution_count": 23,
   "metadata": {},
   "outputs": [
    {
     "data": {
      "text/plain": [
       "'[\\'limits_CODEX_el.txt\\',           \"blue\",    \"NA62\"    ,.1, 0.0003, 0  ],\\n    [\"limits_MATHUSLA_el.txt\",           \"forestgreen\",  \"SHiP\"    , 0.3, 0.0001 , 0  ]'"
      ]
     },
     "execution_count": 23,
     "metadata": {},
     "output_type": "execute_result"
    }
   ],
   "source": [
    "bounds = [ \n",
    "    [\"bounds_BBN_el.txt\",  \"BBN\"  , 3*10**-1    , 3*10**-5        , -40  ],\n",
    "    [\"bounds_el.txt\",None,  0.220, 0.9*10**-4, 0  ],\n",
    "    ]\n",
    "\n",
    "'''[\"bounds_LHCb_el.txt\",  \"LHCb\"  , 0    , 0         , 0  ]\n",
    "    [\"bounds_el.txt\", None,  0.220, 0.9*10**-4, 0  ],\n",
    "'''\n",
    "\n",
    "#this one doesnt even show up\n",
    "#[\"bounds_LHCb_el.txt\",  None  , 0    , 0         , 0  ]\n",
    "\n",
    "\n",
    "projections = [\n",
    "\n",
    "\n",
    "\n",
    "\n",
    "    [\"limits_SHiP_el.txt\",           \"orange\",  \"SHiP\"    , 3, 8.2*10**-5, 0  ],\n",
    "    [\"limits_NA62_el.txt\",           \"blue\",    \"NA62\"    ,1, 0.0002 , 0  ],\n",
    "    [\"limits_DUNE_el.txt\",           \"magenta\",    \"DUNE\"    ,0.6, 0.00009 , 0  ]\n",
    "\n",
    "\n",
    "\n",
    "]\n",
    "'''['limits_CODEX_el.txt',           \"blue\",    \"NA62\"    ,.1, 0.0003, 0  ],\n",
    "    [\"limits_MATHUSLA_el.txt\",           \"forestgreen\",  \"SHiP\"    , 0.3, 0.0001 , 0  ]'''\n",
    "\n",
    "\n",
    "\n"
   ]
  },
  {
   "cell_type": "markdown",
   "metadata": {},
   "source": [
    "Finally, we can plot everything using `foresee.plot_reach()`. It returns a matplotlib instance, to which we can add further lines and which we can show or save. Below, we add the dark matter relict target line for a specific benchmark."
   ]
  },
  {
   "cell_type": "code",
   "execution_count": 24,
   "metadata": {},
   "outputs": [
    {
     "name": "stderr",
     "output_type": "stream",
     "text": [
      "/Users/alechewitt/Desktop/Jonathan_research/Git/FORESEE/src/foresee.py:1018: UserWarning: No contour levels were found within the data range.\n",
      "  ax.contour (m,c,n, levels=[np.log10(level)]       ,colors=color,zorder=zorder, linestyles=ls)\n"
     ]
    },
    {
     "data": {
      "image/png": "[encoded data removed]",
      "text/plain": [
       "<Figure size 576x432 with 1 Axes>"
      ]
     },
     "metadata": {
      "needs_background": "light"
     },
     "output_type": "display_data"
    }
   ],
   "source": [
    "plot = foresee.plot_reach(\n",
    "    setups=setups,\n",
    "    bounds=bounds,\n",
    "    projections=projections,\n",
    "    title=\"HNL\",\n",
    "    xlims = [10**-1,10], \n",
    "    ylims=[10**-5,10**-2],\n",
    "    xlabel=r\"HNL mass $M_{N}$ [GeV]\", \n",
    "    ylabel=r\"Kinetic Mixing $|U_{eN}|$\",\n",
    "    legendloc=(1,0.68),\n",
    "    figsize=(8,6),\n",
    ")\n",
    "#digitized values from bounds on felix paper\n",
    "UeN=[0.000105657,\n",
    "0.000166075,\n",
    "0.000265000,\n",
    "0.000374817,\n",
    "0.000429368,\n",
    "0.000905614,\n",
    "0.00106895,\n",
    "0.000859359,\n",
    "0.000594447,\n",
    ".000407951,\n",
    ".000313497,\n",
    ".000351086,\n",
    ".000608800,\n",
    ".00139489,\n",
    ".00336928,\n",
    ".00653970,\n",
    ".00584161,\n",
    ".00649316,\n",
    ".00533902,\n",
    ".00374895,\n",
    ".00366726,\n",
    ".00372535,]\n",
    "MN=[0.400177,\n",
    "0.402906,\n",
    "0.399575,\n",
    "0.399349,\n",
    "0.453839,\n",
    "0.488770,\n",
    "0.488638,\n",
    "0.599131,\n",
    "0.956599,\n",
    "1.20004,\n",
    "1.57479,\n",
    "1.76296,\n",
    "2.04795,\n",
    "2.04517,\n",
    "2.08892,\n",
    "1.99439,\n",
    "2.21675,\n",
    "2.53841,\n",
    "2.97469,\n",
    "4.50532,\n",
    "6.42077,\n",
    "9.50142]\n",
    "plot.plot(MN,UeN, color=\"k\", lw=2)\n",
    "plot.subplots_adjust(left=0.12, right=0.97, bottom=0.10, top=0.95)\n",
    "plot.savefig(\"/Users/alechewitt/Desktop/Figure.pdf\")\n",
    "plot.show()"
   ]
  },
  {
   "cell_type": "markdown",
   "metadata": {},
   "source": [
    "## 7. Export Contours"
   ]
  },
  {
   "cell_type": "markdown",
   "metadata": {},
   "source": [
    "It might also be useful to extract the contours lines, and save them as a text file. This can be done using the `extract_contours()` function. As example, let us export the FASER2 line. "
   ]
  },
  {
   "cell_type": "code",
   "execution_count": 25,
   "metadata": {},
   "outputs": [
    {
     "name": "stderr",
     "output_type": "stream",
     "text": [
      "/Users/alechewitt/Desktop/Jonathan_research/Git/FORESEE/src/foresee.py:943: UserWarning: No contour levels were found within the data range.\n",
      "  cs = plt.contour (m,c,n, levels=[np.log10(nevents)])\n"
     ]
    }
   ],
   "source": [
    "foresee.extract_contours(\n",
    "    inputfile=\"model/results/14TeV_default.npy\", \n",
    "    outputfile=\"model/lines/limits_FASER2.txt\"\n",
    ")"
   ]
  }
 ],
 "metadata": {
  "interpreter": {
   "hash": "d992d1d0d82f377b2d7582744839498d1eb429866497c2c977ef925f2dbe2ea3"
  },
  "kernelspec": {
   "display_name": "Python 3.10.4 ('forsee')",
   "language": "python",
   "name": "python3"
  },
  "language_info": {
   "codemirror_mode": {
    "name": "ipython",
    "version": 3
   },
   "file_extension": ".py",
   "mimetype": "text/x-python",
   "name": "python",
   "nbconvert_exporter": "python",
   "pygments_lexer": "ipython3",
   "version": "3.10.4"
  },
  "toc": {
   "base_numbering": 1,
   "nav_menu": {
    "height": "734px",
    "width": "465px"
   },
   "number_sections": true,
   "sideBar": true,
   "skip_h1_title": false,
   "title_cell": "Table of Contents",
   "title_sidebar": "Contents",
   "toc_cell": false,
   "toc_position": {},
   "toc_section_display": true,
   "toc_window_display": false
  }
 },
 "nbformat": 4,
 "nbformat_minor": 2
}
